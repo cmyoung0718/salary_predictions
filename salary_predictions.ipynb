{
 "cells": [
  {
   "cell_type": "code",
   "execution_count": 66,
   "metadata": {
    "collapsed": false
   },
   "outputs": [],
   "source": [
    "import urllib2\n",
    "import requests\n",
    "import bs4\n",
    "from bs4 import BeautifulSoup\n",
    "import pandas as pd\n",
    "import numpy as np\n",
    "import re\n",
    "import patsy\n",
    "from sklearn.metrics import classification_report, confusion_matrix, accuracy_score\n",
    "from sklearn.linear_model import LogisticRegression, LogisticRegressionCV\n",
    "from sklearn.model_selection import cross_val_score, train_test_split, GridSearchCV\n",
    "from sklearn.feature_extraction.text import CountVectorizer\n",
    "from sklearn.preprocessing import LabelEncoder\n",
    "from sklearn.ensemble import RandomForestClassifier, BaggingClassifier, AdaBoostClassifier\n",
    "from sklearn.svm import SVC\n",
    "from sklearn.manifold import TSNE\n",
    "from matplotlib import pyplot as plt\n",
    "import seaborn as sns\n",
    "%matplotlib inline"
   ]
  },
  {
   "cell_type": "markdown",
   "metadata": {},
   "source": [
    "# Obtaining Data"
   ]
  },
  {
   "cell_type": "code",
   "execution_count": 2,
   "metadata": {
    "collapsed": false,
    "scrolled": false
   },
   "outputs": [
    {
     "name": "stdout",
     "output_type": "stream",
     "text": [
      "New+York\n",
      "Chicago\n",
      "San+Francisco\n",
      "Austin\n",
      "Seattle\n",
      "Boston\n",
      "Memphis\n",
      "Raleigh\n",
      "Los+Angeles\n",
      "Philadelphia\n",
      "Atlanta\n",
      "Dallas\n",
      "Pittsburgh\n",
      "Nashville\n",
      "San+Antonio\n",
      "Portland\n",
      "Phoenix\n",
      "Denver\n",
      "Houston\n",
      "Miami\n",
      "Cincinnati\n",
      "Indianapolis\n"
     ]
    }
   ],
   "source": [
    "# Scrape indeed.com for data scientist jobs in select cities\n",
    "\n",
    "url_template = \"http://www.indeed.com/jobs?q=data+scientist+%2420%2C000&l={}&start={}\"\n",
    "max_results_per_city = 500\n",
    "\n",
    "results = []\n",
    "\n",
    "for city in ['New+York', 'Chicago', 'San+Francisco', 'Austin', 'Seattle', 'Boston', 'Memphis', 'Raleigh',\n",
    "    'Los+Angeles', 'Philadelphia', 'Atlanta', 'Dallas', 'Pittsburgh', 'Nashville', 'San+Antonio',\n",
    "    'Portland', 'Phoenix', 'Denver', 'Houston', 'Miami', 'Cincinnati', 'Indianapolis']:\n",
    "    print city\n",
    "    for start in range(0, max_results_per_city, 10):\n",
    "        try:\n",
    "            url_ = 'http://www.indeed.com/jobs?q=data+scientist+%2420%2C000&l='+city+'&start='+str(start)\n",
    "            soupy = (BeautifulSoup(urllib2.urlopen(url_).read(), 'lxml'))\n",
    "            results.append(soupy.find_all('div', class_=' row result'))\n",
    "        except:\n",
    "            continue"
   ]
  },
  {
   "cell_type": "code",
   "execution_count": 3,
   "metadata": {
    "collapsed": true
   },
   "outputs": [],
   "source": [
    "# Create functions to extract location, company, job title, and salary from each posting\n",
    "\n",
    "def extract_loc(result):\n",
    "    dicty = {}\n",
    "    for idx, div in enumerate(result):\n",
    "        for idx2, j in enumerate(div.find_all('span', class_='location')):\n",
    "            dicty[idx2] = j.text\n",
    "    return dicty\n",
    "\n",
    "def extract_comp(result):\n",
    "    dicty = {}\n",
    "    for idx, div in enumerate(result):\n",
    "        for idx2, j in enumerate(div.find_all('span', class_='company')):\n",
    "            dicty[idx2] = j.text\n",
    "    return dicty\n",
    "        \n",
    "def extract_job(result):\n",
    "    dicty = {}\n",
    "    for idx, div in enumerate(result):\n",
    "        for idx2, h in enumerate(div.find_all('h2')):\n",
    "            dicty[idx2] = h.text\n",
    "    return dicty\n",
    "\n",
    "def extract_sal(result):\n",
    "    dicty = {}\n",
    "    for idx, div in enumerate(result):\n",
    "        for idx2, i in enumerate(div.find_all('td', class_='snip')):\n",
    "            for idx3, j in enumerate(i.find_all('nobr')):\n",
    "                dicty[idx2] = j.text\n",
    "    return dicty\n"
   ]
  },
  {
   "cell_type": "code",
   "execution_count": 4,
   "metadata": {
    "collapsed": false
   },
   "outputs": [
    {
     "data": {
      "text/html": [
       "<div>\n",
       "<table border=\"1\" class=\"dataframe\">\n",
       "  <thead>\n",
       "    <tr style=\"text-align: right;\">\n",
       "      <th></th>\n",
       "      <th>city</th>\n",
       "      <th>job</th>\n",
       "      <th>salary</th>\n",
       "      <th>company</th>\n",
       "    </tr>\n",
       "  </thead>\n",
       "  <tbody>\n",
       "    <tr>\n",
       "      <th>0</th>\n",
       "      <td>New York, NY</td>\n",
       "      <td>\\nSENIOR DATA SCIENTIST\\n</td>\n",
       "      <td>$120,000 - $150,000 a year</td>\n",
       "      <td>\\n\\n\\n        Viacom\\n</td>\n",
       "    </tr>\n",
       "    <tr>\n",
       "      <th>1</th>\n",
       "      <td>New York, NY</td>\n",
       "      <td>\\nSenior Data Scientist\\n</td>\n",
       "      <td>NaN</td>\n",
       "      <td>\\n\\n    Paperless Post\\n</td>\n",
       "    </tr>\n",
       "    <tr>\n",
       "      <th>2</th>\n",
       "      <td>New York, NY</td>\n",
       "      <td>\\nResearch Data Manager, Publishing Services a...</td>\n",
       "      <td>NaN</td>\n",
       "      <td>\\n\\n\\n        Springer Nature\\n</td>\n",
       "    </tr>\n",
       "  </tbody>\n",
       "</table>\n",
       "</div>"
      ],
      "text/plain": [
       "           city                                                job  \\\n",
       "0  New York, NY                          \\nSENIOR DATA SCIENTIST\\n   \n",
       "1  New York, NY                          \\nSenior Data Scientist\\n   \n",
       "2  New York, NY  \\nResearch Data Manager, Publishing Services a...   \n",
       "\n",
       "                       salary                          company  \n",
       "0  $120,000 - $150,000 a year           \\n\\n\\n        Viacom\\n  \n",
       "1                         NaN         \\n\\n    Paperless Post\\n  \n",
       "2                         NaN  \\n\\n\\n        Springer Nature\\n  "
      ]
     },
     "execution_count": 4,
     "metadata": {},
     "output_type": "execute_result"
    }
   ],
   "source": [
    "# Call each of the above functions to create a pandas dataframe\n",
    "\n",
    "listy = []\n",
    "for i in results:\n",
    "    listy.append(extract_loc(i))\n",
    "df = pd.DataFrame(listy)\n",
    "\n",
    "listy = []\n",
    "for i in results:\n",
    "    listy.append(extract_job(i))\n",
    "df['job'] = pd.DataFrame(listy)\n",
    "\n",
    "listy = []\n",
    "for i in results:\n",
    "    listy.append(extract_sal(i))\n",
    "df['sal'] = pd.DataFrame(listy)\n",
    "\n",
    "listy = []\n",
    "for i in results:\n",
    "    listy.append(extract_comp(i))\n",
    "df['comp'] = pd.DataFrame(listy)\n",
    "\n",
    "df.columns = ['city', 'job', 'salary', 'company']\n",
    "df.head(3)"
   ]
  },
  {
   "cell_type": "code",
   "execution_count": 5,
   "metadata": {
    "collapsed": false
   },
   "outputs": [
    {
     "data": {
      "text/html": [
       "<div>\n",
       "<table border=\"1\" class=\"dataframe\">\n",
       "  <thead>\n",
       "    <tr style=\"text-align: right;\">\n",
       "      <th></th>\n",
       "      <th>city</th>\n",
       "      <th>job</th>\n",
       "      <th>salary</th>\n",
       "      <th>company</th>\n",
       "    </tr>\n",
       "  </thead>\n",
       "  <tbody>\n",
       "    <tr>\n",
       "      <th>1</th>\n",
       "      <td>New York, NY</td>\n",
       "      <td>\\nSenior Data Scientist\\n</td>\n",
       "      <td>NaN</td>\n",
       "      <td>\\n\\n    Paperless Post\\n</td>\n",
       "    </tr>\n",
       "    <tr>\n",
       "      <th>2</th>\n",
       "      <td>New York, NY</td>\n",
       "      <td>\\nResearch Data Manager, Publishing Services a...</td>\n",
       "      <td>NaN</td>\n",
       "      <td>\\n\\n\\n        Springer Nature\\n</td>\n",
       "    </tr>\n",
       "    <tr>\n",
       "      <th>5</th>\n",
       "      <td>New York, NY</td>\n",
       "      <td>\\nIBM Analytics / The Weather Company / Data S...</td>\n",
       "      <td>NaN</td>\n",
       "      <td>\\n\\n\\n        IBM Kenexa\\n</td>\n",
       "    </tr>\n",
       "  </tbody>\n",
       "</table>\n",
       "</div>"
      ],
      "text/plain": [
       "           city                                                job salary  \\\n",
       "1  New York, NY                          \\nSenior Data Scientist\\n    NaN   \n",
       "2  New York, NY  \\nResearch Data Manager, Publishing Services a...    NaN   \n",
       "5  New York, NY  \\nIBM Analytics / The Weather Company / Data S...    NaN   \n",
       "\n",
       "                           company  \n",
       "1         \\n\\n    Paperless Post\\n  \n",
       "2  \\n\\n\\n        Springer Nature\\n  \n",
       "5       \\n\\n\\n        IBM Kenexa\\n  "
      ]
     },
     "execution_count": 5,
     "metadata": {},
     "output_type": "execute_result"
    }
   ],
   "source": [
    "# Create separate dataframe of positions with no salary listed\n",
    "\n",
    "no_sal = df[df['salary'].isnull()]\n",
    "no_sal.head(3)"
   ]
  },
  {
   "cell_type": "code",
   "execution_count": 6,
   "metadata": {
    "collapsed": false
   },
   "outputs": [
    {
     "name": "stdout",
     "output_type": "stream",
     "text": [
      "(236, 4)\n"
     ]
    },
    {
     "data": {
      "text/html": [
       "<div>\n",
       "<table border=\"1\" class=\"dataframe\">\n",
       "  <thead>\n",
       "    <tr style=\"text-align: right;\">\n",
       "      <th></th>\n",
       "      <th>city</th>\n",
       "      <th>job</th>\n",
       "      <th>salary</th>\n",
       "      <th>company</th>\n",
       "    </tr>\n",
       "  </thead>\n",
       "  <tbody>\n",
       "    <tr>\n",
       "      <th>0</th>\n",
       "      <td>New York, NY</td>\n",
       "      <td>\\nSENIOR DATA SCIENTIST\\n</td>\n",
       "      <td>$120,000 - $150,000 a year</td>\n",
       "      <td>\\n\\n\\n        Viacom\\n</td>\n",
       "    </tr>\n",
       "    <tr>\n",
       "      <th>3</th>\n",
       "      <td>New York, NY</td>\n",
       "      <td>\\nSr. Associate, Data Scientist\\n</td>\n",
       "      <td>$100,000 a year</td>\n",
       "      <td>\\n\\n\\n        New York Life Insurance Co\\n</td>\n",
       "    </tr>\n",
       "    <tr>\n",
       "      <th>4</th>\n",
       "      <td>New York, NY</td>\n",
       "      <td>\\nSenior Data Scientist\\n</td>\n",
       "      <td>$90,000 - $100,000 a year</td>\n",
       "      <td>\\n\\n    Spreemo\\n</td>\n",
       "    </tr>\n",
       "    <tr>\n",
       "      <th>8</th>\n",
       "      <td>New York, NY 10005 (Financial District area)</td>\n",
       "      <td>\\nData Science Lead\\n</td>\n",
       "      <td>$100,000 - $200,000 a year</td>\n",
       "      <td>\\n\\n    Celmatix\\n</td>\n",
       "    </tr>\n",
       "    <tr>\n",
       "      <th>9</th>\n",
       "      <td>New York, NY</td>\n",
       "      <td>\\nSenior Business Intelligence Analyst/Data Sc...</td>\n",
       "      <td>$60,189 - $83,440 a year</td>\n",
       "      <td>\\n\\n    SNAP Interactive, Inc.\\n</td>\n",
       "    </tr>\n",
       "  </tbody>\n",
       "</table>\n",
       "</div>"
      ],
      "text/plain": [
       "                                           city  \\\n",
       "0                                  New York, NY   \n",
       "3                                  New York, NY   \n",
       "4                                  New York, NY   \n",
       "8  New York, NY 10005 (Financial District area)   \n",
       "9                                  New York, NY   \n",
       "\n",
       "                                                 job  \\\n",
       "0                          \\nSENIOR DATA SCIENTIST\\n   \n",
       "3                  \\nSr. Associate, Data Scientist\\n   \n",
       "4                          \\nSenior Data Scientist\\n   \n",
       "8                              \\nData Science Lead\\n   \n",
       "9  \\nSenior Business Intelligence Analyst/Data Sc...   \n",
       "\n",
       "                       salary                                     company  \n",
       "0  $120,000 - $150,000 a year                      \\n\\n\\n        Viacom\\n  \n",
       "3             $100,000 a year  \\n\\n\\n        New York Life Insurance Co\\n  \n",
       "4   $90,000 - $100,000 a year                           \\n\\n    Spreemo\\n  \n",
       "8  $100,000 - $200,000 a year                          \\n\\n    Celmatix\\n  \n",
       "9    $60,189 - $83,440 a year            \\n\\n    SNAP Interactive, Inc.\\n  "
      ]
     },
     "execution_count": 6,
     "metadata": {},
     "output_type": "execute_result"
    }
   ],
   "source": [
    "# Drop positions with no salary and duplicate entries in df\n",
    "\n",
    "df.dropna(how='any', axis=0, inplace=True)\n",
    "df.drop_duplicates(inplace=True)\n",
    "print df.shape\n",
    "df.head()"
   ]
  },
  {
   "cell_type": "markdown",
   "metadata": {},
   "source": [
    "# Clean the Data"
   ]
  },
  {
   "cell_type": "code",
   "execution_count": 7,
   "metadata": {
    "collapsed": false
   },
   "outputs": [
    {
     "data": {
      "text/html": [
       "<div>\n",
       "<table border=\"1\" class=\"dataframe\">\n",
       "  <thead>\n",
       "    <tr style=\"text-align: right;\">\n",
       "      <th></th>\n",
       "      <th>city</th>\n",
       "      <th>job</th>\n",
       "      <th>salary</th>\n",
       "      <th>company</th>\n",
       "    </tr>\n",
       "  </thead>\n",
       "  <tbody>\n",
       "    <tr>\n",
       "      <th>0</th>\n",
       "      <td>New York, NY</td>\n",
       "      <td>SENIOR DATA SCIENTIST</td>\n",
       "      <td>$120,000 - $150,000 a year</td>\n",
       "      <td>\\n\\n\\n        Viacom\\n</td>\n",
       "    </tr>\n",
       "    <tr>\n",
       "      <th>3</th>\n",
       "      <td>New York, NY</td>\n",
       "      <td>Sr. Associate, Data Scientist</td>\n",
       "      <td>$100,000 a year</td>\n",
       "      <td>\\n\\n\\n        New York Life Insurance Co\\n</td>\n",
       "    </tr>\n",
       "    <tr>\n",
       "      <th>4</th>\n",
       "      <td>New York, NY</td>\n",
       "      <td>Senior Data Scientist</td>\n",
       "      <td>$90,000 - $100,000 a year</td>\n",
       "      <td>\\n\\n    Spreemo\\n</td>\n",
       "    </tr>\n",
       "  </tbody>\n",
       "</table>\n",
       "</div>"
      ],
      "text/plain": [
       "           city                            job                      salary  \\\n",
       "0  New York, NY          SENIOR DATA SCIENTIST  $120,000 - $150,000 a year   \n",
       "3  New York, NY  Sr. Associate, Data Scientist             $100,000 a year   \n",
       "4  New York, NY          Senior Data Scientist   $90,000 - $100,000 a year   \n",
       "\n",
       "                                      company  \n",
       "0                      \\n\\n\\n        Viacom\\n  \n",
       "3  \\n\\n\\n        New York Life Insurance Co\\n  \n",
       "4                           \\n\\n    Spreemo\\n  "
      ]
     },
     "execution_count": 7,
     "metadata": {},
     "output_type": "execute_result"
    }
   ],
   "source": [
    "# Clean job column\n",
    "\n",
    "listy = []\n",
    "for i in df['job']:\n",
    "    listy.append(str(i.encode('ascii', 'ignore')).split())\n",
    "dicty = {}\n",
    "for idx, i in enumerate(listy):\n",
    "    for j in i:\n",
    "        if '\\\\n' in j:\n",
    "            continue\n",
    "        elif idx not in dicty:\n",
    "            dicty[idx] = str(j.encode('ascii', 'ignore'))\n",
    "        else:\n",
    "            dicty[idx] += ' ' + str(j)\n",
    "listyy = []\n",
    "for i in range(len(dicty)):\n",
    "    listyy.append(dicty[i])\n",
    "df['job'] = listyy\n",
    "df.head(3)"
   ]
  },
  {
   "cell_type": "code",
   "execution_count": 8,
   "metadata": {
    "collapsed": false
   },
   "outputs": [
    {
     "data": {
      "text/html": [
       "<div>\n",
       "<table border=\"1\" class=\"dataframe\">\n",
       "  <thead>\n",
       "    <tr style=\"text-align: right;\">\n",
       "      <th></th>\n",
       "      <th>city</th>\n",
       "      <th>job</th>\n",
       "      <th>salary</th>\n",
       "      <th>company</th>\n",
       "    </tr>\n",
       "  </thead>\n",
       "  <tbody>\n",
       "    <tr>\n",
       "      <th>0</th>\n",
       "      <td>New York, NY</td>\n",
       "      <td>SENIOR DATA SCIENTIST</td>\n",
       "      <td>$120,000 - $150,000 a year</td>\n",
       "      <td>Viacom</td>\n",
       "    </tr>\n",
       "    <tr>\n",
       "      <th>3</th>\n",
       "      <td>New York, NY</td>\n",
       "      <td>Sr. Associate, Data Scientist</td>\n",
       "      <td>$100,000 a year</td>\n",
       "      <td>New York Life Insurance Co</td>\n",
       "    </tr>\n",
       "    <tr>\n",
       "      <th>4</th>\n",
       "      <td>New York, NY</td>\n",
       "      <td>Senior Data Scientist</td>\n",
       "      <td>$90,000 - $100,000 a year</td>\n",
       "      <td>Spreemo</td>\n",
       "    </tr>\n",
       "  </tbody>\n",
       "</table>\n",
       "</div>"
      ],
      "text/plain": [
       "           city                            job                      salary  \\\n",
       "0  New York, NY          SENIOR DATA SCIENTIST  $120,000 - $150,000 a year   \n",
       "3  New York, NY  Sr. Associate, Data Scientist             $100,000 a year   \n",
       "4  New York, NY          Senior Data Scientist   $90,000 - $100,000 a year   \n",
       "\n",
       "                      company  \n",
       "0                      Viacom  \n",
       "3  New York Life Insurance Co  \n",
       "4                     Spreemo  "
      ]
     },
     "execution_count": 8,
     "metadata": {},
     "output_type": "execute_result"
    }
   ],
   "source": [
    "# Clean company column\n",
    "\n",
    "listy = []\n",
    "for i in df['company']:\n",
    "    listy.append(str(i.encode('ascii', 'ignore')).split())\n",
    "dicty = {}\n",
    "for idx, i in enumerate(listy):\n",
    "    for j in i:\n",
    "        if '\\\\n' in j:\n",
    "            continue\n",
    "        elif idx not in dicty:\n",
    "            dicty[idx] = str(j)\n",
    "        else:\n",
    "            dicty[idx] += ' ' + str(j)\n",
    "listyy = []\n",
    "for i in range(len(dicty)):\n",
    "    listyy.append(dicty[i])\n",
    "df['company'] = listyy\n",
    "df.head(3)"
   ]
  },
  {
   "cell_type": "code",
   "execution_count": 9,
   "metadata": {
    "collapsed": false
   },
   "outputs": [
    {
     "data": {
      "text/html": [
       "<div>\n",
       "<table border=\"1\" class=\"dataframe\">\n",
       "  <thead>\n",
       "    <tr style=\"text-align: right;\">\n",
       "      <th></th>\n",
       "      <th>city</th>\n",
       "      <th>job</th>\n",
       "      <th>salary</th>\n",
       "      <th>company</th>\n",
       "    </tr>\n",
       "  </thead>\n",
       "  <tbody>\n",
       "    <tr>\n",
       "      <th>0</th>\n",
       "      <td>New York</td>\n",
       "      <td>SENIOR DATA SCIENTIST</td>\n",
       "      <td>$120,000 - $150,000 a year</td>\n",
       "      <td>Viacom</td>\n",
       "    </tr>\n",
       "    <tr>\n",
       "      <th>3</th>\n",
       "      <td>New York</td>\n",
       "      <td>Sr. Associate, Data Scientist</td>\n",
       "      <td>$100,000 a year</td>\n",
       "      <td>New York Life Insurance Co</td>\n",
       "    </tr>\n",
       "    <tr>\n",
       "      <th>4</th>\n",
       "      <td>New York</td>\n",
       "      <td>Senior Data Scientist</td>\n",
       "      <td>$90,000 - $100,000 a year</td>\n",
       "      <td>Spreemo</td>\n",
       "    </tr>\n",
       "  </tbody>\n",
       "</table>\n",
       "</div>"
      ],
      "text/plain": [
       "       city                            job                      salary  \\\n",
       "0  New York          SENIOR DATA SCIENTIST  $120,000 - $150,000 a year   \n",
       "3  New York  Sr. Associate, Data Scientist             $100,000 a year   \n",
       "4  New York          Senior Data Scientist   $90,000 - $100,000 a year   \n",
       "\n",
       "                      company  \n",
       "0                      Viacom  \n",
       "3  New York Life Insurance Co  \n",
       "4                     Spreemo  "
      ]
     },
     "execution_count": 9,
     "metadata": {},
     "output_type": "execute_result"
    }
   ],
   "source": [
    "# Clean city column\n",
    "\n",
    "listy = []\n",
    "for i in df['city']:\n",
    "    listy.append(str(i).split(',')[0])\n",
    "df['city'] = listy\n",
    "df.head(3)"
   ]
  },
  {
   "cell_type": "code",
   "execution_count": 10,
   "metadata": {
    "collapsed": false
   },
   "outputs": [
    {
     "name": "stdout",
     "output_type": "stream",
     "text": [
      "(236, 4)\n"
     ]
    },
    {
     "data": {
      "text/html": [
       "<div>\n",
       "<table border=\"1\" class=\"dataframe\">\n",
       "  <thead>\n",
       "    <tr style=\"text-align: right;\">\n",
       "      <th></th>\n",
       "      <th>city</th>\n",
       "      <th>job</th>\n",
       "      <th>salary</th>\n",
       "      <th>company</th>\n",
       "    </tr>\n",
       "  </thead>\n",
       "  <tbody>\n",
       "    <tr>\n",
       "      <th>0</th>\n",
       "      <td>New York</td>\n",
       "      <td>SENIOR DATA SCIENTIST</td>\n",
       "      <td>135000.0</td>\n",
       "      <td>Viacom</td>\n",
       "    </tr>\n",
       "    <tr>\n",
       "      <th>3</th>\n",
       "      <td>New York</td>\n",
       "      <td>Sr. Associate, Data Scientist</td>\n",
       "      <td>100000.0</td>\n",
       "      <td>New York Life Insurance Co</td>\n",
       "    </tr>\n",
       "    <tr>\n",
       "      <th>4</th>\n",
       "      <td>New York</td>\n",
       "      <td>Senior Data Scientist</td>\n",
       "      <td>95000.0</td>\n",
       "      <td>Spreemo</td>\n",
       "    </tr>\n",
       "  </tbody>\n",
       "</table>\n",
       "</div>"
      ],
      "text/plain": [
       "       city                            job    salary  \\\n",
       "0  New York          SENIOR DATA SCIENTIST  135000.0   \n",
       "3  New York  Sr. Associate, Data Scientist  100000.0   \n",
       "4  New York          Senior Data Scientist   95000.0   \n",
       "\n",
       "                      company  \n",
       "0                      Viacom  \n",
       "3  New York Life Insurance Co  \n",
       "4                     Spreemo  "
      ]
     },
     "execution_count": 10,
     "metadata": {},
     "output_type": "execute_result"
    }
   ],
   "source": [
    "# Clean salary column\n",
    "\n",
    "df = df[df['salary'] != '$21.31 - $27.06 an hour']\n",
    "\n",
    "listy = []\n",
    "for i in df['salary']:\n",
    "    listy.append(str(i).replace('$', '').replace(',', '').replace('-', '').replace('a year', '')\n",
    "                .replace('a week', '').replace('a month', '').replace('an hour', '').replace('a', '').replace('dy',''))\n",
    "\n",
    "listy = [i.split() for i in listy]\n",
    "num_list = []\n",
    "for idx, i in enumerate(listy):\n",
    "    for j in i:\n",
    "        num_list += [(idx, float(j))]\n",
    "num_list\n",
    "        \n",
    "dicty = {}\n",
    "for j, k in num_list:\n",
    "    if j not in dicty:\n",
    "        dicty[j] = k\n",
    "    else:\n",
    "        dicty[j] += k\n",
    "        dicty[j] /= 2\n",
    "dicty\n",
    "for i in dicty:\n",
    "    if dicty[i] < 100:\n",
    "        dicty[i] *= 2080\n",
    "    elif dicty[i] < 3000:\n",
    "        dicty[i] *= 52\n",
    "    elif dicty[i] < 10000:\n",
    "        dicty[i] *= 12\n",
    "sals = []\n",
    "for i in range(len(dicty)):\n",
    "    sals.append(dicty[i])\n",
    "    \n",
    "df['salary'] = sals\n",
    "print df.shape\n",
    "df.head(3)"
   ]
  },
  {
   "cell_type": "markdown",
   "metadata": {},
   "source": [
    "# Create Two Possible Target Variables"
   ]
  },
  {
   "cell_type": "code",
   "execution_count": 11,
   "metadata": {
    "collapsed": true
   },
   "outputs": [],
   "source": [
    "# Create highness column, which splits the data into three separate categrories\n",
    "\n",
    "frst_third = df['salary'].quantile(.33)\n",
    "scnd_third = df['salary'].quantile(.66)\n",
    "highness = []\n",
    "for i in df['salary']:\n",
    "    if i < frst_third:\n",
    "        highness.append('low')\n",
    "    elif i < scnd_third:\n",
    "        highness.append('average')\n",
    "    else:\n",
    "        highness.append('high')\n",
    "df['highness'] = highness\n",
    "df.head()\n",
    "\n",
    "# Create is_high column, which splits the data into two separate categories\n",
    "\n",
    "listy = []\n",
    "for i in df['salary']:\n",
    "    if i < df['salary'].quantile(.5):\n",
    "        listy.append(1)\n",
    "    else:\n",
    "        listy.append(0)\n",
    "df['is_high'] = listy"
   ]
  },
  {
   "cell_type": "code",
   "execution_count": 12,
   "metadata": {
    "collapsed": false
   },
   "outputs": [
    {
     "data": {
      "text/html": [
       "<div>\n",
       "<table border=\"1\" class=\"dataframe\">\n",
       "  <thead>\n",
       "    <tr style=\"text-align: right;\">\n",
       "      <th></th>\n",
       "      <th>city</th>\n",
       "      <th>job</th>\n",
       "      <th>salary</th>\n",
       "      <th>company</th>\n",
       "      <th>highness</th>\n",
       "      <th>is_high</th>\n",
       "    </tr>\n",
       "  </thead>\n",
       "  <tbody>\n",
       "    <tr>\n",
       "      <th>0</th>\n",
       "      <td>New York</td>\n",
       "      <td>SENIOR DATA SCIENTIST</td>\n",
       "      <td>135000.0</td>\n",
       "      <td>Viacom</td>\n",
       "      <td>high</td>\n",
       "      <td>0</td>\n",
       "    </tr>\n",
       "    <tr>\n",
       "      <th>3</th>\n",
       "      <td>New York</td>\n",
       "      <td>Sr. Associate, Data Scientist</td>\n",
       "      <td>100000.0</td>\n",
       "      <td>New York Life Insurance Co</td>\n",
       "      <td>average</td>\n",
       "      <td>0</td>\n",
       "    </tr>\n",
       "    <tr>\n",
       "      <th>4</th>\n",
       "      <td>New York</td>\n",
       "      <td>Senior Data Scientist</td>\n",
       "      <td>95000.0</td>\n",
       "      <td>Spreemo</td>\n",
       "      <td>average</td>\n",
       "      <td>0</td>\n",
       "    </tr>\n",
       "  </tbody>\n",
       "</table>\n",
       "</div>"
      ],
      "text/plain": [
       "       city                            job    salary  \\\n",
       "0  New York          SENIOR DATA SCIENTIST  135000.0   \n",
       "3  New York  Sr. Associate, Data Scientist  100000.0   \n",
       "4  New York          Senior Data Scientist   95000.0   \n",
       "\n",
       "                      company highness  is_high  \n",
       "0                      Viacom     high        0  \n",
       "3  New York Life Insurance Co  average        0  \n",
       "4                     Spreemo  average        0  "
      ]
     },
     "execution_count": 12,
     "metadata": {},
     "output_type": "execute_result"
    }
   ],
   "source": [
    "df.head(3)"
   ]
  },
  {
   "cell_type": "code",
   "execution_count": 13,
   "metadata": {
    "collapsed": false
   },
   "outputs": [
    {
     "name": "stdout",
     "output_type": "stream",
     "text": [
      "The baseline accuracy is 0.338983050847\n"
     ]
    }
   ],
   "source": [
    "# Check the baseline of model\n",
    "\n",
    "val_cnts = df['highness'].value_counts()\n",
    "print 'The baseline accuracy is', float(max(val_cnts)) / float(sum(val_cnts)) "
   ]
  },
  {
   "cell_type": "code",
   "execution_count": 14,
   "metadata": {
    "collapsed": false
   },
   "outputs": [],
   "source": [
    "# Split data into train and test groups\n",
    "\n",
    "X = df.drop(['highness', 'is_high', 'salary'], axis=1)\n",
    "y = df['highness']\n",
    "\n",
    "X_train, X_test, y_train, y_test = train_test_split(X, y, stratify=y, test_size=0.33, random_state=42)"
   ]
  },
  {
   "cell_type": "markdown",
   "metadata": {},
   "source": [
    "# Create Feature Matrix Via Text Vectorization"
   ]
  },
  {
   "cell_type": "code",
   "execution_count": 15,
   "metadata": {
    "collapsed": false
   },
   "outputs": [
    {
     "data": {
      "text/plain": [
       "CountVectorizer(analyzer=u'word', binary=False, decode_error=u'strict',\n",
       "        dtype=<type 'numpy.int64'>, encoding=u'utf-8', input=u'content',\n",
       "        lowercase=True, max_df=0.2, max_features=20, min_df=2,\n",
       "        ngram_range=(1, 1), preprocessor=None, stop_words='english',\n",
       "        strip_accents=None, token_pattern=u'(?u)\\\\b\\\\w\\\\w+\\\\b',\n",
       "        tokenizer=None, vocabulary=None)"
      ]
     },
     "execution_count": 15,
     "metadata": {},
     "output_type": "execute_result"
    }
   ],
   "source": [
    "# Initialize TF-IDF vectorizer\n",
    "\n",
    "vec = CountVectorizer(stop_words='english',ngram_range=(1, 1), max_df=0.2, min_df=2, max_features=20)\n",
    "vec.fit(X['job'])"
   ]
  },
  {
   "cell_type": "code",
   "execution_count": 16,
   "metadata": {
    "collapsed": false
   },
   "outputs": [],
   "source": [
    "# Create function to prepare X_train and X_test for classification models\n",
    "\n",
    "def prep(X):\n",
    "    # Convert city column to numerical values\n",
    "    le = LabelEncoder()\n",
    "    X['city'] = le.fit_transform(X['city'])\n",
    "    \n",
    "    # Vectorize job titles column to create new features\n",
    "    X_vec = pd.DataFrame(vec.transform(X['job']).todense())\n",
    "    \n",
    "    # Concatenate new features to X_train\n",
    "    X.set_index([range(len(X['job']))], inplace=True)\n",
    "    X_vec.columns = vec.get_feature_names()\n",
    "    X = pd.concat([X, X_vec], axis=1)\n",
    "    \n",
    "    # Drop job and company columns from X\n",
    "    X.drop(['job', 'company'], axis=1, inplace=True)\n",
    "    \n",
    "    return X"
   ]
  },
  {
   "cell_type": "code",
   "execution_count": 17,
   "metadata": {
    "collapsed": false
   },
   "outputs": [
    {
     "name": "stderr",
     "output_type": "stream",
     "text": [
      "/anaconda/lib/python2.7/site-packages/ipykernel/__main__.py:6: SettingWithCopyWarning: \n",
      "A value is trying to be set on a copy of a slice from a DataFrame.\n",
      "Try using .loc[row_indexer,col_indexer] = value instead\n",
      "\n",
      "See the caveats in the documentation: http://pandas.pydata.org/pandas-docs/stable/indexing.html#indexing-view-versus-copy\n"
     ]
    }
   ],
   "source": [
    "# Use above function to prepare X_train and X_test\n",
    "\n",
    "X_train = prep(X_train)\n",
    "X_test  = prep(X_test)"
   ]
  },
  {
   "cell_type": "code",
   "execution_count": 23,
   "metadata": {
    "collapsed": false
   },
   "outputs": [],
   "source": [
    "# Reassign index of y_train to merge y_train and X_train on index for pairplot\n",
    "\n",
    "y_train.index = range(len(y_train))"
   ]
  },
  {
   "cell_type": "code",
   "execution_count": 140,
   "metadata": {
    "collapsed": false
   },
   "outputs": [
    {
     "data": {
      "image/png": "[encoded data removed]",
      "text/plain": [
       "<matplotlib.figure.Figure at 0x19d581350>"
      ]
     },
     "metadata": {},
     "output_type": "display_data"
    }
   ],
   "source": [
    "# Perform T-SNE decomposition to visualize the data in a scatterplot\n",
    "\n",
    "tsne = TSNE()\n",
    "comps = pd.DataFrame(tsne.fit_transform(X_train))\n",
    "\n",
    "# Plotting X to look at distribution of classes\n",
    "\n",
    "for_plot = comps.merge(pd.DataFrame(y_train), how='inner', right_index=True, left_index=True)\n",
    "sns.pairplot(for_plot, hue='highness')\n",
    "plt.show()"
   ]
  },
  {
   "cell_type": "code",
   "execution_count": 98,
   "metadata": {
    "collapsed": true
   },
   "outputs": [],
   "source": [
    "# Looking at the data in this plot, I am not expecting an extremely high score from any classifier.\n",
    "# There is no clear separation between the three classes"
   ]
  },
  {
   "cell_type": "markdown",
   "metadata": {},
   "source": [
    "# Train and Test Models"
   ]
  },
  {
   "cell_type": "markdown",
   "metadata": {},
   "source": [
    "### Logistic Regressor"
   ]
  },
  {
   "cell_type": "code",
   "execution_count": 40,
   "metadata": {
    "collapsed": false
   },
   "outputs": [
    {
     "name": "stderr",
     "output_type": "stream",
     "text": [
      "//anaconda/lib/python2.7/site-packages/sklearn/linear_model/sag.py:286: ConvergenceWarning: The max_iter was reached which means the coef_ did not converge\n",
      "  \"the coef_ did not converge\", ConvergenceWarning)\n"
     ]
    },
    {
     "data": {
      "text/plain": [
       "LogisticRegression(C=1.0, class_weight=None, dual=False, fit_intercept=True,\n",
       "          intercept_scaling=1, max_iter=100, multi_class='multinomial',\n",
       "          n_jobs=1, penalty='l2', random_state=None, solver='sag',\n",
       "          tol=0.0001, verbose=0, warm_start=False)"
      ]
     },
     "execution_count": 40,
     "metadata": {},
     "output_type": "execute_result"
    }
   ],
   "source": [
    "# Train logistic regression\n",
    "\n",
    "lr = LogisticRegression(multi_class='multinomial', solver='sag')\n",
    "lr.fit(X_train, y_train)"
   ]
  },
  {
   "cell_type": "code",
   "execution_count": 131,
   "metadata": {
    "collapsed": false
   },
   "outputs": [
    {
     "data": {
      "text/plain": [
       "{'C': 1000, 'multi_class': 'multinomial', 'solver': 'sag'}"
      ]
     },
     "execution_count": 131,
     "metadata": {},
     "output_type": "execute_result"
    }
   ],
   "source": [
    "# Search for best parameters\n",
    "\n",
    "gs = GridSearchCV(lr, {'C':[0.0001, 0.001, 0.01, 0.1, 1.0, 10, 100, 1000],'multi_class':['multinomial'], 'solver':['sag']}, cv=3)\n",
    "gs.fit(X_train, y_train)\n",
    "gs.best_params_"
   ]
  },
  {
   "cell_type": "code",
   "execution_count": 132,
   "metadata": {
    "collapsed": false
   },
   "outputs": [
    {
     "data": {
      "text/plain": [
       "0.35897435897435898"
      ]
     },
     "execution_count": 132,
     "metadata": {},
     "output_type": "execute_result"
    }
   ],
   "source": [
    "# Test with given parameters\n",
    "\n",
    "lr = LogisticRegression(C=1000, multi_class='multinomial', solver='sag')\n",
    "lr.fit(X_train, y_train)\n",
    "lr.score(X_test, y_test)"
   ]
  },
  {
   "cell_type": "code",
   "execution_count": 133,
   "metadata": {
    "collapsed": false
   },
   "outputs": [
    {
     "name": "stdout",
     "output_type": "stream",
     "text": [
      "             precision    recall  f1-score   support\n",
      "\n",
      "    average       0.43      0.33      0.38        27\n",
      "       high       0.33      0.50      0.40        26\n",
      "        low       0.33      0.24      0.28        25\n",
      "\n",
      "avg / total       0.37      0.36      0.35        78\n",
      "\n"
     ]
    },
    {
     "data": {
      "text/plain": [
       "array([[ 9, 14,  4],\n",
       "       [ 5, 13,  8],\n",
       "       [ 7, 12,  6]])"
      ]
     },
     "execution_count": 133,
     "metadata": {},
     "output_type": "execute_result"
    }
   ],
   "source": [
    "# Print out classification report and confusion matrix\n",
    "\n",
    "y_pred = lr.predict(X_test)\n",
    "print classification_report(y_test, y_pred)\n",
    "confusion_matrix(y_test, y_pred)"
   ]
  },
  {
   "cell_type": "markdown",
   "metadata": {},
   "source": [
    "### Random Forest (Best Estimator)"
   ]
  },
  {
   "cell_type": "code",
   "execution_count": 49,
   "metadata": {
    "collapsed": false
   },
   "outputs": [
    {
     "data": {
      "text/plain": [
       "RandomForestClassifier(bootstrap=True, class_weight=None, criterion='gini',\n",
       "            max_depth=None, max_features='auto', max_leaf_nodes=None,\n",
       "            min_impurity_split=1e-07, min_samples_leaf=1,\n",
       "            min_samples_split=2, min_weight_fraction_leaf=0.0,\n",
       "            n_estimators=10, n_jobs=1, oob_score=False, random_state=None,\n",
       "            verbose=0, warm_start=False)"
      ]
     },
     "execution_count": 49,
     "metadata": {},
     "output_type": "execute_result"
    }
   ],
   "source": [
    "# Train random forest classifier\n",
    "\n",
    "rf = RandomForestClassifier()\n",
    "rf.fit(X_train, y_train)"
   ]
  },
  {
   "cell_type": "code",
   "execution_count": 50,
   "metadata": {
    "collapsed": false
   },
   "outputs": [
    {
     "data": {
      "text/plain": [
       "{'max_depth': 3, 'max_features': None, 'n_estimators': 20}"
      ]
     },
     "execution_count": 50,
     "metadata": {},
     "output_type": "execute_result"
    }
   ],
   "source": [
    "# Find best parameters\n",
    "\n",
    "gs = GridSearchCV(rf, {'max_features':[1, 2, 3, 4, 5, None], 'max_depth':[1,2,3,4,5,None],\n",
    "                      'n_estimators':[5, 10, 15, 20]}, cv=3)\n",
    "gs.fit(X_train, y_train)\n",
    "gs.best_params_"
   ]
  },
  {
   "cell_type": "code",
   "execution_count": 97,
   "metadata": {
    "collapsed": false
   },
   "outputs": [
    {
     "data": {
      "text/plain": [
       "0.4358974358974359"
      ]
     },
     "execution_count": 97,
     "metadata": {},
     "output_type": "execute_result"
    }
   ],
   "source": [
    "# Train and test random forest model using given parameters\n",
    "\n",
    "rf = RandomForestClassifier(max_depth=3, max_features=None, n_estimators=20, random_state=13)\n",
    "rf.fit(X_train, y_train)\n",
    "rf.score(X_test, y_test)"
   ]
  },
  {
   "cell_type": "code",
   "execution_count": 85,
   "metadata": {
    "collapsed": false
   },
   "outputs": [
    {
     "name": "stdout",
     "output_type": "stream",
     "text": [
      "             precision    recall  f1-score   support\n",
      "\n",
      "    average       0.47      0.59      0.52        27\n",
      "       high       0.33      0.27      0.30        26\n",
      "        low       0.35      0.32      0.33        25\n",
      "\n",
      "avg / total       0.39      0.40      0.39        78\n",
      "\n"
     ]
    },
    {
     "data": {
      "text/plain": [
       "array([[16,  7,  4],\n",
       "       [ 8,  7, 11],\n",
       "       [10,  7,  8]])"
      ]
     },
     "execution_count": 85,
     "metadata": {},
     "output_type": "execute_result"
    }
   ],
   "source": [
    "# Print out classification report and confusion matrix\n",
    "\n",
    "y_pred = rf.predict(X_test)\n",
    "print classification_report(y_test, y_pred)\n",
    "confusion_matrix(y_test, y_pred)"
   ]
  },
  {
   "cell_type": "markdown",
   "metadata": {},
   "source": [
    "### Support Vector Classifier and Bagged SVC"
   ]
  },
  {
   "cell_type": "code",
   "execution_count": 184,
   "metadata": {
    "collapsed": false
   },
   "outputs": [
    {
     "data": {
      "text/plain": [
       "0.28205128205128205"
      ]
     },
     "execution_count": 184,
     "metadata": {},
     "output_type": "execute_result"
    }
   ],
   "source": [
    "# Train and test SVC (attempted GridSearchCV but it crashed the kernel)\n",
    "\n",
    "svc = SVC(C=100.0, kernel='rbf', degree=3, gamma='auto', coef0=0.0, shrinking=True, probability=False, \n",
    "          tol=0.001, cache_size=200, class_weight=None, verbose=False, \n",
    "          max_iter=-1, decision_function_shape=None, random_state=None)\n",
    "svc.fit(X_train, y_train)\n",
    "svc.score(X_test,y_test)"
   ]
  },
  {
   "cell_type": "code",
   "execution_count": 185,
   "metadata": {
    "collapsed": false
   },
   "outputs": [
    {
     "data": {
      "text/plain": [
       "0.37179487179487181"
      ]
     },
     "execution_count": 185,
     "metadata": {},
     "output_type": "execute_result"
    }
   ],
   "source": [
    "# Train and test bagged SVC\n",
    "\n",
    "bagged_svc = BaggingClassifier(svc, random_state=52)\n",
    "bagged_svc.fit(X_train, y_train)\n",
    "bagged_svc.score(X_test, y_test)"
   ]
  },
  {
   "cell_type": "code",
   "execution_count": 186,
   "metadata": {
    "collapsed": false
   },
   "outputs": [
    {
     "name": "stdout",
     "output_type": "stream",
     "text": [
      "             precision    recall  f1-score   support\n",
      "\n",
      "    average       0.33      0.48      0.39        27\n",
      "       high       0.37      0.38      0.38        26\n",
      "        low       0.55      0.24      0.33        25\n",
      "\n",
      "avg / total       0.41      0.37      0.37        78\n",
      "\n"
     ]
    },
    {
     "data": {
      "text/plain": [
       "array([[13, 10,  4],\n",
       "       [15, 10,  1],\n",
       "       [12,  7,  6]])"
      ]
     },
     "execution_count": 186,
     "metadata": {},
     "output_type": "execute_result"
    }
   ],
   "source": [
    "# Print the classification report and confusion matrix\n",
    "\n",
    "y_pred = bagged_svc.predict(X_test)\n",
    "print classification_report(y_test, y_pred)\n",
    "confusion_matrix(y_test, y_pred)"
   ]
  },
  {
   "cell_type": "markdown",
   "metadata": {},
   "source": [
    "Clearly, better features need to be collected to make this model work.  In the meantime, though, let's look at the features the random forest estimator judges as the most important indicators of salary."
   ]
  },
  {
   "cell_type": "markdown",
   "metadata": {},
   "source": [
    "# Check Feature Importances Using Random Forest Estimator"
   ]
  },
  {
   "cell_type": "code",
   "execution_count": 138,
   "metadata": {
    "collapsed": false
   },
   "outputs": [],
   "source": [
    "# Create feature importance dataframe\n",
    "\n",
    "feature_importance = pd.DataFrame(rf.feature_importances_, columns=['score'])"
   ]
  },
  {
   "cell_type": "code",
   "execution_count": 139,
   "metadata": {
    "collapsed": false
   },
   "outputs": [
    {
     "name": "stdout",
     "output_type": "stream",
     "text": [
      "The five most important features are:\n"
     ]
    },
    {
     "data": {
      "text/html": [
       "<div>\n",
       "<table border=\"1\" class=\"dataframe\">\n",
       "  <thead>\n",
       "    <tr style=\"text-align: right;\">\n",
       "      <th></th>\n",
       "      <th>score</th>\n",
       "    </tr>\n",
       "  </thead>\n",
       "  <tbody>\n",
       "    <tr>\n",
       "      <th>city</th>\n",
       "      <td>0.564915</td>\n",
       "    </tr>\n",
       "    <tr>\n",
       "      <th>associate</th>\n",
       "      <td>0.117194</td>\n",
       "    </tr>\n",
       "    <tr>\n",
       "      <th>analyst</th>\n",
       "      <td>0.109979</td>\n",
       "    </tr>\n",
       "    <tr>\n",
       "      <th>clinical</th>\n",
       "      <td>0.027565</td>\n",
       "    </tr>\n",
       "    <tr>\n",
       "      <th>senior</th>\n",
       "      <td>0.023611</td>\n",
       "    </tr>\n",
       "  </tbody>\n",
       "</table>\n",
       "</div>"
      ],
      "text/plain": [
       "              score\n",
       "city       0.564915\n",
       "associate  0.117194\n",
       "analyst    0.109979\n",
       "clinical   0.027565\n",
       "senior     0.023611"
      ]
     },
     "execution_count": 139,
     "metadata": {},
     "output_type": "execute_result"
    }
   ],
   "source": [
    "# Print out the top five most important features\n",
    "\n",
    "feature_importance.index = [i for i in X_train]\n",
    "print 'The five most important features are:'\n",
    "feature_importance.sort_values('score', ascending=False)[:5]\n"
   ]
  },
  {
   "cell_type": "markdown",
   "metadata": {
    "collapsed": true
   },
   "source": [
    "### City is by far the best predictor of salary level."
   ]
  }
 ],
 "metadata": {
  "anaconda-cloud": {},
  "kernelspec": {
   "display_name": "Python [Root]",
   "language": "python",
   "name": "Python [Root]"
  },
  "language_info": {
   "codemirror_mode": {
    "name": "ipython",
    "version": 2
   },
   "file_extension": ".py",
   "mimetype": "text/x-python",
   "name": "python",
   "nbconvert_exporter": "python",
   "pygments_lexer": "ipython2",
   "version": "2.7.12"
  }
 },
 "nbformat": 4,
 "nbformat_minor": 0
}
