{
 "cells": [
  {
   "cell_type": "code",
   "execution_count": 60,
   "metadata": {
    "collapsed": false
   },
   "outputs": [],
   "source": [
    "import urllib2\n",
    "import requests\n",
    "import bs4\n",
    "from bs4 import BeautifulSoup\n",
    "import pandas as pd\n",
    "import numpy as np\n",
    "import re\n",
    "import patsy\n",
    "from sklearn.metrics import classification_report, confusion_matrix, accuracy_score\n",
    "from sklearn.linear_model import LogisticRegression, LogisticRegressionCV\n",
    "from sklearn.model_selection import cross_val_score, train_test_split, GridSearchCV\n",
    "from sklearn.feature_extraction.text import CountVectorizer\n",
    "from sklearn.preprocessing import LabelEncoder\n",
    "from sklearn.ensemble import RandomForestClassifier, BaggingClassifier\n",
    "from sklearn.svm import SVC"
   ]
  },
  {
   "cell_type": "code",
   "execution_count": 2,
   "metadata": {
    "collapsed": false,
    "scrolled": false
   },
   "outputs": [
    {
     "name": "stdout",
     "output_type": "stream",
     "text": [
      "New+York\n",
      "Chicago\n",
      "San+Francisco\n",
      "Austin\n",
      "Seattle\n",
      "Boston\n",
      "Memphis\n",
      "Raleigh\n",
      "Los+Angeles\n",
      "Philadelphia\n",
      "Atlanta\n",
      "Dallas\n",
      "Pittsburgh\n",
      "Nashville\n",
      "San+Antonio\n",
      "Portland\n",
      "Phoenix\n",
      "Denver\n",
      "Houston\n",
      "Miami\n",
      "Cincinnati\n",
      "Indianapolis\n"
     ]
    }
   ],
   "source": [
    "# Scrape indeed.com for data scientist jobs in select cities\n",
    "\n",
    "url_template = \"http://www.indeed.com/jobs?q=data+scientist+%2420%2C000&l={}&start={}\"\n",
    "max_results_per_city = 500\n",
    "\n",
    "results = []\n",
    "\n",
    "for city in ['New+York', 'Chicago', 'San+Francisco', 'Austin', 'Seattle', 'Boston', 'Memphis', 'Raleigh',\n",
    "    'Los+Angeles', 'Philadelphia', 'Atlanta', 'Dallas', 'Pittsburgh', 'Nashville', 'San+Antonio',\n",
    "    'Portland', 'Phoenix', 'Denver', 'Houston', 'Miami', 'Cincinnati', 'Indianapolis']:\n",
    "    print city\n",
    "    for start in range(0, max_results_per_city, 10):\n",
    "        try:\n",
    "            url_ = 'http://www.indeed.com/jobs?q=data+scientist+%2420%2C000&l='+city+'&start='+str(start)\n",
    "            soupy = (BeautifulSoup(urllib2.urlopen(url_).read(), 'lxml'))\n",
    "            results.append(soupy.find_all('div', class_=' row result'))\n",
    "        except:\n",
    "            continue"
   ]
  },
  {
   "cell_type": "code",
   "execution_count": 3,
   "metadata": {
    "collapsed": true
   },
   "outputs": [],
   "source": [
    "# Create functions to extract location, company, job title, and salary from each posting\n",
    "\n",
    "def extract_loc(result):\n",
    "    dicty = {}\n",
    "    for idx, div in enumerate(result):\n",
    "        for idx2, j in enumerate(div.find_all('span', class_='location')):\n",
    "            dicty[idx2] = j.text\n",
    "    return dicty\n",
    "\n",
    "def extract_comp(result):\n",
    "    dicty = {}\n",
    "    for idx, div in enumerate(result):\n",
    "        for idx2, j in enumerate(div.find_all('span', class_='company')):\n",
    "            dicty[idx2] = j.text\n",
    "    return dicty\n",
    "        \n",
    "def extract_job(result):\n",
    "    dicty = {}\n",
    "    for idx, div in enumerate(result):\n",
    "        for idx2, h in enumerate(div.find_all('h2')):\n",
    "            dicty[idx2] = h.text\n",
    "    return dicty\n",
    "\n",
    "def extract_sal(result):\n",
    "    dicty = {}\n",
    "    for idx, div in enumerate(result):\n",
    "        for idx2, i in enumerate(div.find_all('td', class_='snip')):\n",
    "            for idx3, j in enumerate(i.find_all('nobr')):\n",
    "                dicty[idx2] = j.text\n",
    "    return dicty\n"
   ]
  },
  {
   "cell_type": "code",
   "execution_count": 4,
   "metadata": {
    "collapsed": false
   },
   "outputs": [
    {
     "data": {
      "text/html": [
       "<div>\n",
       "<table border=\"1\" class=\"dataframe\">\n",
       "  <thead>\n",
       "    <tr style=\"text-align: right;\">\n",
       "      <th></th>\n",
       "      <th>city</th>\n",
       "      <th>job</th>\n",
       "      <th>salary</th>\n",
       "      <th>company</th>\n",
       "    </tr>\n",
       "  </thead>\n",
       "  <tbody>\n",
       "    <tr>\n",
       "      <th>0</th>\n",
       "      <td>New York, NY 10032 (Washington Heights area)</td>\n",
       "      <td>\\nData Scientist, Digital Strategy\\n</td>\n",
       "      <td>$120,000 - $150,000 a year</td>\n",
       "      <td>\\n\\n\\n        Morgan Stanley\\n</td>\n",
       "    </tr>\n",
       "    <tr>\n",
       "      <th>1</th>\n",
       "      <td>New York, NY</td>\n",
       "      <td>\\nLead Data Scientist\\n</td>\n",
       "      <td>NaN</td>\n",
       "      <td>\\n\\n    ExecThread\\n</td>\n",
       "    </tr>\n",
       "    <tr>\n",
       "      <th>2</th>\n",
       "      <td>New York, NY</td>\n",
       "      <td>\\nBioinformatics Scientist\\n</td>\n",
       "      <td>$90,000 - $100,000 a year</td>\n",
       "      <td>\\n\\n    Recombine\\n</td>\n",
       "    </tr>\n",
       "  </tbody>\n",
       "</table>\n",
       "</div>"
      ],
      "text/plain": [
       "                                           city  \\\n",
       "0  New York, NY 10032 (Washington Heights area)   \n",
       "1                                  New York, NY   \n",
       "2                                  New York, NY   \n",
       "\n",
       "                                    job                      salary  \\\n",
       "0  \\nData Scientist, Digital Strategy\\n  $120,000 - $150,000 a year   \n",
       "1               \\nLead Data Scientist\\n                         NaN   \n",
       "2          \\nBioinformatics Scientist\\n   $90,000 - $100,000 a year   \n",
       "\n",
       "                          company  \n",
       "0  \\n\\n\\n        Morgan Stanley\\n  \n",
       "1            \\n\\n    ExecThread\\n  \n",
       "2             \\n\\n    Recombine\\n  "
      ]
     },
     "execution_count": 4,
     "metadata": {},
     "output_type": "execute_result"
    }
   ],
   "source": [
    "# Call each of the above functions to create a pandas dataframe\n",
    "\n",
    "listy = []\n",
    "for i in results:\n",
    "    listy.append(extract_loc(i))\n",
    "df = pd.DataFrame(listy)\n",
    "\n",
    "listy = []\n",
    "for i in results:\n",
    "    listy.append(extract_job(i))\n",
    "df['job'] = pd.DataFrame(listy)\n",
    "\n",
    "listy = []\n",
    "for i in results:\n",
    "    listy.append(extract_sal(i))\n",
    "df['sal'] = pd.DataFrame(listy)\n",
    "\n",
    "listy = []\n",
    "for i in results:\n",
    "    listy.append(extract_comp(i))\n",
    "df['comp'] = pd.DataFrame(listy)\n",
    "\n",
    "df.columns = ['city', 'job', 'salary', 'company']\n",
    "df.head(3)"
   ]
  },
  {
   "cell_type": "code",
   "execution_count": 5,
   "metadata": {
    "collapsed": false
   },
   "outputs": [
    {
     "data": {
      "text/html": [
       "<div>\n",
       "<table border=\"1\" class=\"dataframe\">\n",
       "  <thead>\n",
       "    <tr style=\"text-align: right;\">\n",
       "      <th></th>\n",
       "      <th>city</th>\n",
       "      <th>job</th>\n",
       "      <th>salary</th>\n",
       "      <th>company</th>\n",
       "    </tr>\n",
       "  </thead>\n",
       "  <tbody>\n",
       "    <tr>\n",
       "      <th>1</th>\n",
       "      <td>New York, NY</td>\n",
       "      <td>\\nLead Data Scientist\\n</td>\n",
       "      <td>NaN</td>\n",
       "      <td>\\n\\n    ExecThread\\n</td>\n",
       "    </tr>\n",
       "    <tr>\n",
       "      <th>5</th>\n",
       "      <td>New York, NY</td>\n",
       "      <td>\\nQuantitative Analyst\\n</td>\n",
       "      <td>NaN</td>\n",
       "      <td>\\n\\n\\n        Natixis\\n</td>\n",
       "    </tr>\n",
       "    <tr>\n",
       "      <th>6</th>\n",
       "      <td>New York, NY</td>\n",
       "      <td>\\nSr. Associate, Data Scientist\\n</td>\n",
       "      <td>NaN</td>\n",
       "      <td>\\n\\n\\n        New York Life Insurance Co\\n</td>\n",
       "    </tr>\n",
       "  </tbody>\n",
       "</table>\n",
       "</div>"
      ],
      "text/plain": [
       "           city                                job salary  \\\n",
       "1  New York, NY            \\nLead Data Scientist\\n    NaN   \n",
       "5  New York, NY           \\nQuantitative Analyst\\n    NaN   \n",
       "6  New York, NY  \\nSr. Associate, Data Scientist\\n    NaN   \n",
       "\n",
       "                                      company  \n",
       "1                        \\n\\n    ExecThread\\n  \n",
       "5                     \\n\\n\\n        Natixis\\n  \n",
       "6  \\n\\n\\n        New York Life Insurance Co\\n  "
      ]
     },
     "execution_count": 5,
     "metadata": {},
     "output_type": "execute_result"
    }
   ],
   "source": [
    "# Create separate dataframe of positions with no salary listed\n",
    "\n",
    "no_sal = df[df['salary'].isnull()]\n",
    "no_sal.head(3)"
   ]
  },
  {
   "cell_type": "code",
   "execution_count": 6,
   "metadata": {
    "collapsed": false
   },
   "outputs": [
    {
     "name": "stdout",
     "output_type": "stream",
     "text": [
      "(237, 4)\n"
     ]
    },
    {
     "data": {
      "text/html": [
       "<div>\n",
       "<table border=\"1\" class=\"dataframe\">\n",
       "  <thead>\n",
       "    <tr style=\"text-align: right;\">\n",
       "      <th></th>\n",
       "      <th>city</th>\n",
       "      <th>job</th>\n",
       "      <th>salary</th>\n",
       "      <th>company</th>\n",
       "    </tr>\n",
       "  </thead>\n",
       "  <tbody>\n",
       "    <tr>\n",
       "      <th>0</th>\n",
       "      <td>New York, NY 10032 (Washington Heights area)</td>\n",
       "      <td>\\nData Scientist, Digital Strategy\\n</td>\n",
       "      <td>$120,000 - $150,000 a year</td>\n",
       "      <td>\\n\\n\\n        Morgan Stanley\\n</td>\n",
       "    </tr>\n",
       "    <tr>\n",
       "      <th>2</th>\n",
       "      <td>New York, NY</td>\n",
       "      <td>\\nBioinformatics Scientist\\n</td>\n",
       "      <td>$90,000 - $100,000 a year</td>\n",
       "      <td>\\n\\n    Recombine\\n</td>\n",
       "    </tr>\n",
       "    <tr>\n",
       "      <th>3</th>\n",
       "      <td>New York, NY 10017 (Midtown area)</td>\n",
       "      <td>\\nAssociate Director of Analytics\\n</td>\n",
       "      <td>$100,000 a year</td>\n",
       "      <td>\\n\\n\\n        Wunderman\\n</td>\n",
       "    </tr>\n",
       "    <tr>\n",
       "      <th>4</th>\n",
       "      <td>New York, NY</td>\n",
       "      <td>\\nPostdoctoral Research Scientist\\n</td>\n",
       "      <td>$175,000 a year</td>\n",
       "      <td>\\n\\n\\n        Columbia University Medical Cent...</td>\n",
       "    </tr>\n",
       "    <tr>\n",
       "      <th>7</th>\n",
       "      <td>New York, NY 10017 (Midtown area)</td>\n",
       "      <td>\\nData Scientists/Predictive Modelers – Insura...</td>\n",
       "      <td>$80,000 - $100,000 a year</td>\n",
       "      <td>\\n\\n\\n        Analytic Recruiting\\n</td>\n",
       "    </tr>\n",
       "  </tbody>\n",
       "</table>\n",
       "</div>"
      ],
      "text/plain": [
       "                                           city  \\\n",
       "0  New York, NY 10032 (Washington Heights area)   \n",
       "2                                  New York, NY   \n",
       "3             New York, NY 10017 (Midtown area)   \n",
       "4                                  New York, NY   \n",
       "7             New York, NY 10017 (Midtown area)   \n",
       "\n",
       "                                                 job  \\\n",
       "0               \\nData Scientist, Digital Strategy\\n   \n",
       "2                       \\nBioinformatics Scientist\\n   \n",
       "3                \\nAssociate Director of Analytics\\n   \n",
       "4                \\nPostdoctoral Research Scientist\\n   \n",
       "7  \\nData Scientists/Predictive Modelers – Insura...   \n",
       "\n",
       "                       salary  \\\n",
       "0  $120,000 - $150,000 a year   \n",
       "2   $90,000 - $100,000 a year   \n",
       "3             $100,000 a year   \n",
       "4             $175,000 a year   \n",
       "7   $80,000 - $100,000 a year   \n",
       "\n",
       "                                             company  \n",
       "0                     \\n\\n\\n        Morgan Stanley\\n  \n",
       "2                                \\n\\n    Recombine\\n  \n",
       "3                          \\n\\n\\n        Wunderman\\n  \n",
       "4  \\n\\n\\n        Columbia University Medical Cent...  \n",
       "7                \\n\\n\\n        Analytic Recruiting\\n  "
      ]
     },
     "execution_count": 6,
     "metadata": {},
     "output_type": "execute_result"
    }
   ],
   "source": [
    "# Drop positions with no salary and duplicate entries in df\n",
    "\n",
    "df.dropna(how='any', axis=0, inplace=True)\n",
    "df.drop_duplicates(inplace=True)\n",
    "print df.shape\n",
    "df.head()"
   ]
  },
  {
   "cell_type": "code",
   "execution_count": 7,
   "metadata": {
    "collapsed": false
   },
   "outputs": [
    {
     "data": {
      "text/html": [
       "<div>\n",
       "<table border=\"1\" class=\"dataframe\">\n",
       "  <thead>\n",
       "    <tr style=\"text-align: right;\">\n",
       "      <th></th>\n",
       "      <th>city</th>\n",
       "      <th>job</th>\n",
       "      <th>salary</th>\n",
       "      <th>company</th>\n",
       "    </tr>\n",
       "  </thead>\n",
       "  <tbody>\n",
       "    <tr>\n",
       "      <th>0</th>\n",
       "      <td>New York, NY 10032 (Washington Heights area)</td>\n",
       "      <td>Data Scientist, Digital Strategy</td>\n",
       "      <td>$120,000 - $150,000 a year</td>\n",
       "      <td>\\n\\n\\n        Morgan Stanley\\n</td>\n",
       "    </tr>\n",
       "    <tr>\n",
       "      <th>2</th>\n",
       "      <td>New York, NY</td>\n",
       "      <td>Bioinformatics Scientist</td>\n",
       "      <td>$90,000 - $100,000 a year</td>\n",
       "      <td>\\n\\n    Recombine\\n</td>\n",
       "    </tr>\n",
       "    <tr>\n",
       "      <th>3</th>\n",
       "      <td>New York, NY 10017 (Midtown area)</td>\n",
       "      <td>Associate Director of Analytics</td>\n",
       "      <td>$100,000 a year</td>\n",
       "      <td>\\n\\n\\n        Wunderman\\n</td>\n",
       "    </tr>\n",
       "  </tbody>\n",
       "</table>\n",
       "</div>"
      ],
      "text/plain": [
       "                                           city  \\\n",
       "0  New York, NY 10032 (Washington Heights area)   \n",
       "2                                  New York, NY   \n",
       "3             New York, NY 10017 (Midtown area)   \n",
       "\n",
       "                                job                      salary  \\\n",
       "0  Data Scientist, Digital Strategy  $120,000 - $150,000 a year   \n",
       "2          Bioinformatics Scientist   $90,000 - $100,000 a year   \n",
       "3   Associate Director of Analytics             $100,000 a year   \n",
       "\n",
       "                          company  \n",
       "0  \\n\\n\\n        Morgan Stanley\\n  \n",
       "2             \\n\\n    Recombine\\n  \n",
       "3       \\n\\n\\n        Wunderman\\n  "
      ]
     },
     "execution_count": 7,
     "metadata": {},
     "output_type": "execute_result"
    }
   ],
   "source": [
    "# Clean job column\n",
    "\n",
    "listy = []\n",
    "for i in df['job']:\n",
    "    listy.append(str(i.encode('ascii', 'ignore')).split())\n",
    "dicty = {}\n",
    "for idx, i in enumerate(listy):\n",
    "    for j in i:\n",
    "        if '\\\\n' in j:\n",
    "            continue\n",
    "        elif idx not in dicty:\n",
    "            dicty[idx] = str(j.encode('ascii', 'ignore'))\n",
    "        else:\n",
    "            dicty[idx] += ' ' + str(j)\n",
    "listyy = []\n",
    "for i in range(len(dicty)):\n",
    "    listyy.append(dicty[i])\n",
    "df['job'] = listyy\n",
    "df.head(3)"
   ]
  },
  {
   "cell_type": "code",
   "execution_count": 8,
   "metadata": {
    "collapsed": false
   },
   "outputs": [
    {
     "data": {
      "text/html": [
       "<div>\n",
       "<table border=\"1\" class=\"dataframe\">\n",
       "  <thead>\n",
       "    <tr style=\"text-align: right;\">\n",
       "      <th></th>\n",
       "      <th>city</th>\n",
       "      <th>job</th>\n",
       "      <th>salary</th>\n",
       "      <th>company</th>\n",
       "    </tr>\n",
       "  </thead>\n",
       "  <tbody>\n",
       "    <tr>\n",
       "      <th>0</th>\n",
       "      <td>New York, NY 10032 (Washington Heights area)</td>\n",
       "      <td>Data Scientist, Digital Strategy</td>\n",
       "      <td>$120,000 - $150,000 a year</td>\n",
       "      <td>Morgan Stanley</td>\n",
       "    </tr>\n",
       "    <tr>\n",
       "      <th>2</th>\n",
       "      <td>New York, NY</td>\n",
       "      <td>Bioinformatics Scientist</td>\n",
       "      <td>$90,000 - $100,000 a year</td>\n",
       "      <td>Recombine</td>\n",
       "    </tr>\n",
       "    <tr>\n",
       "      <th>3</th>\n",
       "      <td>New York, NY 10017 (Midtown area)</td>\n",
       "      <td>Associate Director of Analytics</td>\n",
       "      <td>$100,000 a year</td>\n",
       "      <td>Wunderman</td>\n",
       "    </tr>\n",
       "  </tbody>\n",
       "</table>\n",
       "</div>"
      ],
      "text/plain": [
       "                                           city  \\\n",
       "0  New York, NY 10032 (Washington Heights area)   \n",
       "2                                  New York, NY   \n",
       "3             New York, NY 10017 (Midtown area)   \n",
       "\n",
       "                                job                      salary  \\\n",
       "0  Data Scientist, Digital Strategy  $120,000 - $150,000 a year   \n",
       "2          Bioinformatics Scientist   $90,000 - $100,000 a year   \n",
       "3   Associate Director of Analytics             $100,000 a year   \n",
       "\n",
       "          company  \n",
       "0  Morgan Stanley  \n",
       "2       Recombine  \n",
       "3       Wunderman  "
      ]
     },
     "execution_count": 8,
     "metadata": {},
     "output_type": "execute_result"
    }
   ],
   "source": [
    "# Clean company column\n",
    "\n",
    "listy = []\n",
    "for i in df['company']:\n",
    "    listy.append(str(i.encode('ascii', 'ignore')).split())\n",
    "dicty = {}\n",
    "for idx, i in enumerate(listy):\n",
    "    for j in i:\n",
    "        if '\\\\n' in j:\n",
    "            continue\n",
    "        elif idx not in dicty:\n",
    "            dicty[idx] = str(j)\n",
    "        else:\n",
    "            dicty[idx] += ' ' + str(j)\n",
    "listyy = []\n",
    "for i in range(len(dicty)):\n",
    "    listyy.append(dicty[i])\n",
    "df['company'] = listyy\n",
    "df.head(3)"
   ]
  },
  {
   "cell_type": "code",
   "execution_count": 9,
   "metadata": {
    "collapsed": false
   },
   "outputs": [
    {
     "data": {
      "text/html": [
       "<div>\n",
       "<table border=\"1\" class=\"dataframe\">\n",
       "  <thead>\n",
       "    <tr style=\"text-align: right;\">\n",
       "      <th></th>\n",
       "      <th>city</th>\n",
       "      <th>job</th>\n",
       "      <th>salary</th>\n",
       "      <th>company</th>\n",
       "    </tr>\n",
       "  </thead>\n",
       "  <tbody>\n",
       "    <tr>\n",
       "      <th>0</th>\n",
       "      <td>New York</td>\n",
       "      <td>Data Scientist, Digital Strategy</td>\n",
       "      <td>$120,000 - $150,000 a year</td>\n",
       "      <td>Morgan Stanley</td>\n",
       "    </tr>\n",
       "    <tr>\n",
       "      <th>2</th>\n",
       "      <td>New York</td>\n",
       "      <td>Bioinformatics Scientist</td>\n",
       "      <td>$90,000 - $100,000 a year</td>\n",
       "      <td>Recombine</td>\n",
       "    </tr>\n",
       "    <tr>\n",
       "      <th>3</th>\n",
       "      <td>New York</td>\n",
       "      <td>Associate Director of Analytics</td>\n",
       "      <td>$100,000 a year</td>\n",
       "      <td>Wunderman</td>\n",
       "    </tr>\n",
       "  </tbody>\n",
       "</table>\n",
       "</div>"
      ],
      "text/plain": [
       "       city                               job                      salary  \\\n",
       "0  New York  Data Scientist, Digital Strategy  $120,000 - $150,000 a year   \n",
       "2  New York          Bioinformatics Scientist   $90,000 - $100,000 a year   \n",
       "3  New York   Associate Director of Analytics             $100,000 a year   \n",
       "\n",
       "          company  \n",
       "0  Morgan Stanley  \n",
       "2       Recombine  \n",
       "3       Wunderman  "
      ]
     },
     "execution_count": 9,
     "metadata": {},
     "output_type": "execute_result"
    }
   ],
   "source": [
    "# Clean city column\n",
    "\n",
    "listy = []\n",
    "for i in df['city']:\n",
    "    listy.append(str(i).split(',')[0])\n",
    "df['city'] = listy\n",
    "df.head(3)"
   ]
  },
  {
   "cell_type": "code",
   "execution_count": 10,
   "metadata": {
    "collapsed": false
   },
   "outputs": [
    {
     "name": "stdout",
     "output_type": "stream",
     "text": [
      "(236, 4)\n"
     ]
    },
    {
     "data": {
      "text/html": [
       "<div>\n",
       "<table border=\"1\" class=\"dataframe\">\n",
       "  <thead>\n",
       "    <tr style=\"text-align: right;\">\n",
       "      <th></th>\n",
       "      <th>city</th>\n",
       "      <th>job</th>\n",
       "      <th>salary</th>\n",
       "      <th>company</th>\n",
       "    </tr>\n",
       "  </thead>\n",
       "  <tbody>\n",
       "    <tr>\n",
       "      <th>0</th>\n",
       "      <td>New York</td>\n",
       "      <td>Data Scientist, Digital Strategy</td>\n",
       "      <td>135000.0</td>\n",
       "      <td>Morgan Stanley</td>\n",
       "    </tr>\n",
       "    <tr>\n",
       "      <th>2</th>\n",
       "      <td>New York</td>\n",
       "      <td>Bioinformatics Scientist</td>\n",
       "      <td>95000.0</td>\n",
       "      <td>Recombine</td>\n",
       "    </tr>\n",
       "    <tr>\n",
       "      <th>3</th>\n",
       "      <td>New York</td>\n",
       "      <td>Associate Director of Analytics</td>\n",
       "      <td>100000.0</td>\n",
       "      <td>Wunderman</td>\n",
       "    </tr>\n",
       "  </tbody>\n",
       "</table>\n",
       "</div>"
      ],
      "text/plain": [
       "       city                               job    salary         company\n",
       "0  New York  Data Scientist, Digital Strategy  135000.0  Morgan Stanley\n",
       "2  New York          Bioinformatics Scientist   95000.0       Recombine\n",
       "3  New York   Associate Director of Analytics  100000.0       Wunderman"
      ]
     },
     "execution_count": 10,
     "metadata": {},
     "output_type": "execute_result"
    }
   ],
   "source": [
    "# Clean salary column\n",
    "\n",
    "df = df[df['salary'] != '$21.31 - $27.06 an hour']\n",
    "\n",
    "listy = []\n",
    "for i in df['salary']:\n",
    "    listy.append(str(i).replace('$', '').replace(',', '').replace('-', '').replace('a year', '')\n",
    "                .replace('a week', '').replace('a month', '').replace('an hour', '').replace('a', '').replace('dy',''))\n",
    "\n",
    "listy = [i.split() for i in listy]\n",
    "num_list = []\n",
    "for idx, i in enumerate(listy):\n",
    "    for j in i:\n",
    "        num_list += [(idx, float(j))]\n",
    "num_list\n",
    "        \n",
    "dicty = {}\n",
    "for j, k in num_list:\n",
    "    if j not in dicty:\n",
    "        dicty[j] = k\n",
    "    else:\n",
    "        dicty[j] += k\n",
    "        dicty[j] /= 2\n",
    "dicty\n",
    "for i in dicty:\n",
    "    if dicty[i] < 100:\n",
    "        dicty[i] *= 2080\n",
    "    elif dicty[i] < 3000:\n",
    "        dicty[i] *= 52\n",
    "    elif dicty[i] < 10000:\n",
    "        dicty[i] *= 12\n",
    "sals = []\n",
    "for i in range(len(dicty)):\n",
    "    sals.append(dicty[i])\n",
    "    \n",
    "df['salary'] = sals\n",
    "print df.shape\n",
    "df.head(3)"
   ]
  },
  {
   "cell_type": "code",
   "execution_count": 11,
   "metadata": {
    "collapsed": true
   },
   "outputs": [],
   "source": [
    "# Create highness column, which splits \n",
    "\n",
    "frst_third = df['salary'].quantile(.33)\n",
    "scnd_third = df['salary'].quantile(.66)\n",
    "highness = []\n",
    "for i in df['salary']:\n",
    "    if i < frst_third:\n",
    "        highness.append('low')\n",
    "    elif i < scnd_third:\n",
    "        highness.append('average')\n",
    "    else:\n",
    "        highness.append('high')\n",
    "df['highness'] = highness\n",
    "df.head()\n",
    "\n",
    "listy = []\n",
    "for i in df['salary']:\n",
    "    if i < df['salary'].quantile(.5):\n",
    "        listy.append(1)\n",
    "    else:\n",
    "        listy.append(0)\n",
    "df['is_high'] = listy"
   ]
  },
  {
   "cell_type": "code",
   "execution_count": 12,
   "metadata": {
    "collapsed": false
   },
   "outputs": [
    {
     "data": {
      "text/html": [
       "<div>\n",
       "<table border=\"1\" class=\"dataframe\">\n",
       "  <thead>\n",
       "    <tr style=\"text-align: right;\">\n",
       "      <th></th>\n",
       "      <th>city</th>\n",
       "      <th>job</th>\n",
       "      <th>salary</th>\n",
       "      <th>company</th>\n",
       "      <th>highness</th>\n",
       "      <th>is_high</th>\n",
       "    </tr>\n",
       "  </thead>\n",
       "  <tbody>\n",
       "    <tr>\n",
       "      <th>0</th>\n",
       "      <td>New York</td>\n",
       "      <td>Data Scientist, Digital Strategy</td>\n",
       "      <td>135000.0</td>\n",
       "      <td>Morgan Stanley</td>\n",
       "      <td>high</td>\n",
       "      <td>0</td>\n",
       "    </tr>\n",
       "    <tr>\n",
       "      <th>2</th>\n",
       "      <td>New York</td>\n",
       "      <td>Bioinformatics Scientist</td>\n",
       "      <td>95000.0</td>\n",
       "      <td>Recombine</td>\n",
       "      <td>average</td>\n",
       "      <td>0</td>\n",
       "    </tr>\n",
       "    <tr>\n",
       "      <th>3</th>\n",
       "      <td>New York</td>\n",
       "      <td>Associate Director of Analytics</td>\n",
       "      <td>100000.0</td>\n",
       "      <td>Wunderman</td>\n",
       "      <td>average</td>\n",
       "      <td>0</td>\n",
       "    </tr>\n",
       "  </tbody>\n",
       "</table>\n",
       "</div>"
      ],
      "text/plain": [
       "       city                               job    salary         company  \\\n",
       "0  New York  Data Scientist, Digital Strategy  135000.0  Morgan Stanley   \n",
       "2  New York          Bioinformatics Scientist   95000.0       Recombine   \n",
       "3  New York   Associate Director of Analytics  100000.0       Wunderman   \n",
       "\n",
       "  highness  is_high  \n",
       "0     high        0  \n",
       "2  average        0  \n",
       "3  average        0  "
      ]
     },
     "execution_count": 12,
     "metadata": {},
     "output_type": "execute_result"
    }
   ],
   "source": [
    "df.head(3)"
   ]
  },
  {
   "cell_type": "code",
   "execution_count": 13,
   "metadata": {
    "collapsed": false
   },
   "outputs": [
    {
     "name": "stdout",
     "output_type": "stream",
     "text": [
      "The baseline accuracy is 0.338983050847\n"
     ]
    }
   ],
   "source": [
    "# Check the baseline of model\n",
    "\n",
    "val_cnts = df['highness'].value_counts()\n",
    "print 'The baseline accuracy is', float(max(val_cnts)) / float(sum(val_cnts)) "
   ]
  },
  {
   "cell_type": "code",
   "execution_count": 29,
   "metadata": {
    "collapsed": false
   },
   "outputs": [],
   "source": [
    "# Split data into train and test groups\n",
    "\n",
    "X = df.drop(['highness', 'is_high', 'salary'], axis=1)\n",
    "y = df['highness']\n",
    "\n",
    "X_train, X_test, y_train, y_test = train_test_split(X, y, stratify=y, test_size=0.33, random_state=42)"
   ]
  },
  {
   "cell_type": "code",
   "execution_count": 30,
   "metadata": {
    "collapsed": false
   },
   "outputs": [
    {
     "data": {
      "text/plain": [
       "CountVectorizer(analyzer=u'word', binary=False, decode_error=u'strict',\n",
       "        dtype=<type 'numpy.int64'>, encoding=u'utf-8', input=u'content',\n",
       "        lowercase=True, max_df=0.2, max_features=20, min_df=2,\n",
       "        ngram_range=(1, 1), preprocessor=None, stop_words='english',\n",
       "        strip_accents=None, token_pattern=u'(?u)\\\\b\\\\w\\\\w+\\\\b',\n",
       "        tokenizer=None, vocabulary=None)"
      ]
     },
     "execution_count": 30,
     "metadata": {},
     "output_type": "execute_result"
    }
   ],
   "source": [
    "# Initialize TF-IDF vectorizer\n",
    "\n",
    "vec = CountVectorizer(stop_words='english',ngram_range=(1, 1), max_df=0.2, min_df=2, max_features=20)\n",
    "vec.fit(X['job'])"
   ]
  },
  {
   "cell_type": "code",
   "execution_count": 31,
   "metadata": {
    "collapsed": false
   },
   "outputs": [],
   "source": [
    "# Create function to prepare X_train and X_test for classification models\n",
    "\n",
    "def prep(X):\n",
    "    # Convert city column to numerical values\n",
    "    le = LabelEncoder()\n",
    "    X['city'] = le.fit_transform(X['city'])\n",
    "    \n",
    "    # Vectorize job titles column to create new features\n",
    "    X_vec = pd.DataFrame(vec.transform(X['job']).todense())\n",
    "    \n",
    "    # Concatenate new features to X_train\n",
    "    X.set_index([range(len(X['job']))], inplace=True)\n",
    "    X_vec.columns = vec.get_feature_names()\n",
    "    X = pd.concat([X, X_vec], axis=1)\n",
    "    \n",
    "    # Drop job and company columns from X\n",
    "    X.drop(['job', 'company'], axis=1, inplace=True)\n",
    "    \n",
    "    return X"
   ]
  },
  {
   "cell_type": "code",
   "execution_count": 32,
   "metadata": {
    "collapsed": false
   },
   "outputs": [
    {
     "name": "stderr",
     "output_type": "stream",
     "text": [
      "/anaconda/lib/python2.7/site-packages/ipykernel/__main__.py:6: SettingWithCopyWarning: \n",
      "A value is trying to be set on a copy of a slice from a DataFrame.\n",
      "Try using .loc[row_indexer,col_indexer] = value instead\n",
      "\n",
      "See the caveats in the documentation: http://pandas.pydata.org/pandas-docs/stable/indexing.html#indexing-view-versus-copy\n"
     ]
    }
   ],
   "source": [
    "X_train = prep(X_train)\n",
    "X_test  = prep(X_test)"
   ]
  },
  {
   "cell_type": "code",
   "execution_count": 33,
   "metadata": {
    "collapsed": false
   },
   "outputs": [
    {
     "data": {
      "text/plain": [
       "LogisticRegression(C=1.0, class_weight=None, dual=False, fit_intercept=True,\n",
       "          intercept_scaling=1, max_iter=100, multi_class='multinomial',\n",
       "          n_jobs=1, penalty='l2', random_state=None, solver='sag',\n",
       "          tol=0.0001, verbose=0, warm_start=False)"
      ]
     },
     "execution_count": 33,
     "metadata": {},
     "output_type": "execute_result"
    }
   ],
   "source": [
    "lr = LogisticRegression(multi_class='multinomial', solver='sag')\n",
    "lr.fit(X_train, y_train)"
   ]
  },
  {
   "cell_type": "code",
   "execution_count": 34,
   "metadata": {
    "collapsed": false
   },
   "outputs": [
    {
     "data": {
      "text/plain": [
       "{'C': 0.0001, 'multi_class': 'multinomial', 'solver': 'sag'}"
      ]
     },
     "execution_count": 34,
     "metadata": {},
     "output_type": "execute_result"
    }
   ],
   "source": [
    "gs = GridSearchCV(lr, {'C':[0.0001, 0.001, 0.01, 0.1, 1.0, 10, 100, 1000],'multi_class':['multinomial'], 'solver':['sag']}, cv=3)\n",
    "gs.fit(X_train, y_train)\n",
    "gs.best_params_"
   ]
  },
  {
   "cell_type": "code",
   "execution_count": 35,
   "metadata": {
    "collapsed": false
   },
   "outputs": [
    {
     "data": {
      "text/plain": [
       "0.46153846153846156"
      ]
     },
     "execution_count": 35,
     "metadata": {},
     "output_type": "execute_result"
    }
   ],
   "source": [
    "lr = LogisticRegression(C=0.0001, multi_class='multinomial', solver='sag')\n",
    "lr.fit(X_train, y_train)\n",
    "lr.score(X_test, y_test)"
   ]
  },
  {
   "cell_type": "code",
   "execution_count": 36,
   "metadata": {
    "collapsed": false
   },
   "outputs": [
    {
     "name": "stdout",
     "output_type": "stream",
     "text": [
      "             precision    recall  f1-score   support\n",
      "\n",
      "    average       0.45      0.81      0.58        26\n",
      "       high       0.52      0.54      0.53        26\n",
      "        low       0.25      0.04      0.07        26\n",
      "\n",
      "avg / total       0.41      0.46      0.39        78\n",
      "\n"
     ]
    },
    {
     "data": {
      "text/plain": [
       "array([[21,  4,  1],\n",
       "       [10, 14,  2],\n",
       "       [16,  9,  1]])"
      ]
     },
     "execution_count": 36,
     "metadata": {},
     "output_type": "execute_result"
    }
   ],
   "source": [
    "y_pred = lr.predict(X_test)\n",
    "print classification_report(y_test, y_pred)\n",
    "confusion_matrix(y_test, y_pred)"
   ]
  },
  {
   "cell_type": "code",
   "execution_count": 37,
   "metadata": {
    "collapsed": false
   },
   "outputs": [
    {
     "data": {
      "text/plain": [
       "RandomForestClassifier(bootstrap=True, class_weight=None, criterion='gini',\n",
       "            max_depth=None, max_features='auto', max_leaf_nodes=None,\n",
       "            min_impurity_split=1e-07, min_samples_leaf=1,\n",
       "            min_samples_split=2, min_weight_fraction_leaf=0.0,\n",
       "            n_estimators=10, n_jobs=1, oob_score=False, random_state=None,\n",
       "            verbose=0, warm_start=False)"
      ]
     },
     "execution_count": 37,
     "metadata": {},
     "output_type": "execute_result"
    }
   ],
   "source": [
    "# Trying out random forest classifier\n",
    "\n",
    "rf = RandomForestClassifier()\n",
    "rf.fit(X_train, y_train)"
   ]
  },
  {
   "cell_type": "code",
   "execution_count": 23,
   "metadata": {
    "collapsed": false
   },
   "outputs": [
    {
     "data": {
      "text/plain": [
       "{'max_depth': 5, 'max_features': None, 'n_estimators': 5}"
      ]
     },
     "execution_count": 23,
     "metadata": {},
     "output_type": "execute_result"
    }
   ],
   "source": [
    "gs = GridSearchCV(rf, {'max_features':[1, 2, 3, 4, 5, None], 'max_depth':[1,2,3,4,5,None],\n",
    "                      'n_estimators':[5, 10, 15, 20]}, cv=3)\n",
    "gs.fit(X_train, y_train)\n",
    "gs.best_params_"
   ]
  },
  {
   "cell_type": "code",
   "execution_count": 56,
   "metadata": {
    "collapsed": false
   },
   "outputs": [
    {
     "data": {
      "text/plain": [
       "0.41025641025641024"
      ]
     },
     "execution_count": 56,
     "metadata": {},
     "output_type": "execute_result"
    }
   ],
   "source": [
    "rf = RandomForestClassifier(max_depth=5, max_features=None, n_estimators=5, random_state=13)\n",
    "rf.fit(X_train, y_train)\n",
    "rf.score(X_test, y_test)"
   ]
  },
  {
   "cell_type": "code",
   "execution_count": 57,
   "metadata": {
    "collapsed": false
   },
   "outputs": [
    {
     "name": "stdout",
     "output_type": "stream",
     "text": [
      "             precision    recall  f1-score   support\n",
      "\n",
      "    average       0.37      0.77      0.50        26\n",
      "       high       0.47      0.27      0.34        26\n",
      "        low       0.56      0.19      0.29        26\n",
      "\n",
      "avg / total       0.46      0.41      0.38        78\n",
      "\n"
     ]
    },
    {
     "data": {
      "text/plain": [
       "array([[20,  4,  2],\n",
       "       [17,  7,  2],\n",
       "       [17,  4,  5]])"
      ]
     },
     "execution_count": 57,
     "metadata": {},
     "output_type": "execute_result"
    }
   ],
   "source": [
    "y_pred = rf.predict(X_test)\n",
    "print classification_report(y_test, y_pred)\n",
    "confusion_matrix(y_test, y_pred)"
   ]
  },
  {
   "cell_type": "code",
   "execution_count": 73,
   "metadata": {
    "collapsed": false
   },
   "outputs": [
    {
     "data": {
      "text/plain": [
       "0.46153846153846156"
      ]
     },
     "execution_count": 73,
     "metadata": {},
     "output_type": "execute_result"
    }
   ],
   "source": [
    "svc = SVC()\n",
    "svc.fit(X_train, y_train)\n",
    "svc.score(X_test, y_test)"
   ]
  },
  {
   "cell_type": "code",
   "execution_count": 106,
   "metadata": {
    "collapsed": false
   },
   "outputs": [
    {
     "data": {
      "text/plain": [
       "0.48717948717948717"
      ]
     },
     "execution_count": 106,
     "metadata": {},
     "output_type": "execute_result"
    }
   ],
   "source": [
    "bagged_svc = BaggingClassifier(svc, random_state=52)\n",
    "bagged_svc.fit(X_train, y_train)\n",
    "bagged_svc.score(X_test, y_test)"
   ]
  },
  {
   "cell_type": "code",
   "execution_count": 107,
   "metadata": {
    "collapsed": false
   },
   "outputs": [
    {
     "name": "stdout",
     "output_type": "stream",
     "text": [
      "             precision    recall  f1-score   support\n",
      "\n",
      "    average       0.43      0.81      0.56        26\n",
      "       high       0.57      0.46      0.51        26\n",
      "        low       0.62      0.19      0.29        26\n",
      "\n",
      "avg / total       0.54      0.49      0.45        78\n",
      "\n"
     ]
    },
    {
     "data": {
      "text/plain": [
       "array([[21,  4,  1],\n",
       "       [12, 12,  2],\n",
       "       [16,  5,  5]])"
      ]
     },
     "execution_count": 107,
     "metadata": {},
     "output_type": "execute_result"
    }
   ],
   "source": [
    "y_pred = bagged_svc.predict(X_test)\n",
    "print classification_report(y_test, y_pred)\n",
    "confusion_matrix(y_test, y_pred)"
   ]
  },
  {
   "cell_type": "code",
   "execution_count": null,
   "metadata": {
    "collapsed": true
   },
   "outputs": [],
   "source": []
  }
 ],
 "metadata": {
  "anaconda-cloud": {},
  "kernelspec": {
   "display_name": "Python [Root]",
   "language": "python",
   "name": "Python [Root]"
  },
  "language_info": {
   "codemirror_mode": {
    "name": "ipython",
    "version": 2
   },
   "file_extension": ".py",
   "mimetype": "text/x-python",
   "name": "python",
   "nbconvert_exporter": "python",
   "pygments_lexer": "ipython2",
   "version": "2.7.12"
  }
 },
 "nbformat": 4,
 "nbformat_minor": 0
}
