{
 "cells": [
  {
   "cell_type": "code",
   "execution_count": 1,
   "metadata": {
    "collapsed": false
   },
   "outputs": [],
   "source": [
    "import urllib2\n",
    "import requests\n",
    "import bs4\n",
    "from bs4 import BeautifulSoup\n",
    "import pandas as pd\n",
    "import numpy as np\n",
    "import re\n",
    "import patsy\n",
    "from sklearn.metrics import classification_report, confusion_matrix, accuracy_score\n",
    "from sklearn.linear_model import LogisticRegression, LogisticRegressionCV\n",
    "from sklearn.model_selection import cross_val_score, train_test_split, GridSearchCV\n",
    "from sklearn.feature_extraction.text import CountVectorizer\n",
    "from sklearn.preprocessing import LabelEncoder\n",
    "from sklearn.ensemble import RandomForestClassifier, BaggingClassifier\n",
    "from sklearn.feature_selection import SelectKBest"
   ]
  },
  {
   "cell_type": "code",
   "execution_count": 2,
   "metadata": {
    "collapsed": false,
    "scrolled": false
   },
   "outputs": [
    {
     "name": "stdout",
     "output_type": "stream",
     "text": [
      "New+York\n",
      "Did not work\n",
      "Chicago\n",
      "San+Francisco\n",
      "Austin\n",
      "Seattle\n",
      "Los+Angeles\n",
      "Philadelphia\n",
      "Did not work\n",
      "Atlanta\n",
      "Dallas\n",
      "Did not work\n",
      "Pittsburgh\n",
      "Did not work\n",
      "Did not work\n",
      "Portland\n",
      "Phoenix\n",
      "Denver\n",
      "Houston\n",
      "Miami\n"
     ]
    }
   ],
   "source": [
    "# Scrape indeed.com for data scientist jobs in select cities\n",
    "\n",
    "url_template = \"http://www.indeed.com/jobs?q=data+scientist+%2420%2C000&l={}&start={}\"\n",
    "max_results_per_city = 500\n",
    "\n",
    "results = []\n",
    "\n",
    "for city in ['New+York', 'Chicago', 'San+Francisco', 'Austin', 'Seattle', \n",
    "    'Los+Angeles', 'Philadelphia', 'Atlanta', 'Dallas', 'Pittsburgh', \n",
    "    'Portland', 'Phoenix', 'Denver', 'Houston', 'Miami']:\n",
    "    print city\n",
    "    for start in range(0, max_results_per_city, 10):\n",
    "        try:\n",
    "            url_ = 'http://www.indeed.com/jobs?q=data+scientist+%2420%2C000&l='+city+'&start='+str(start)\n",
    "            soupy = (BeautifulSoup(urllib2.urlopen(url_).read(), 'lxml'))\n",
    "            results.append(soupy.find_all('div', class_=' row result'))\n",
    "        except:\n",
    "            print 'Did not work'"
   ]
  },
  {
   "cell_type": "code",
   "execution_count": 3,
   "metadata": {
    "collapsed": true
   },
   "outputs": [],
   "source": [
    "# Create functions to extract location, company, job title, and salary from each posting\n",
    "\n",
    "def extract_loc(result):\n",
    "    dicty = {}\n",
    "    for idx, div in enumerate(result):\n",
    "        for idx2, j in enumerate(div.find_all('span', class_='location')):\n",
    "            dicty[idx2] = j.text\n",
    "    return dicty\n",
    "\n",
    "def extract_comp(result):\n",
    "    dicty = {}\n",
    "    for idx, div in enumerate(result):\n",
    "        for idx2, j in enumerate(div.find_all('span', class_='company')):\n",
    "            dicty[idx2] = j.text\n",
    "    return dicty\n",
    "        \n",
    "def extract_job(result):\n",
    "    dicty = {}\n",
    "    for idx, div in enumerate(result):\n",
    "        for idx2, h in enumerate(div.find_all('h2')):\n",
    "            dicty[idx2] = h.text\n",
    "    return dicty\n",
    "\n",
    "def extract_sal(result):\n",
    "    dicty = {}\n",
    "    for idx, div in enumerate(result):\n",
    "        for idx2, i in enumerate(div.find_all('td', class_='snip')):\n",
    "            for idx3, j in enumerate(i.find_all('nobr')):\n",
    "                dicty[idx2] = j.text\n",
    "    return dicty\n"
   ]
  },
  {
   "cell_type": "code",
   "execution_count": 4,
   "metadata": {
    "collapsed": false
   },
   "outputs": [
    {
     "data": {
      "text/html": [
       "<div>\n",
       "<table border=\"1\" class=\"dataframe\">\n",
       "  <thead>\n",
       "    <tr style=\"text-align: right;\">\n",
       "      <th></th>\n",
       "      <th>city</th>\n",
       "      <th>job</th>\n",
       "      <th>salary</th>\n",
       "      <th>company</th>\n",
       "    </tr>\n",
       "  </thead>\n",
       "  <tbody>\n",
       "    <tr>\n",
       "      <th>0</th>\n",
       "      <td>New York, NY</td>\n",
       "      <td>\\nLead Data Scientist, Digital Intelligence\\n</td>\n",
       "      <td>NaN</td>\n",
       "      <td>\\n\\n\\n        JPMorgan Chase\\n</td>\n",
       "    </tr>\n",
       "    <tr>\n",
       "      <th>1</th>\n",
       "      <td>New York, NY 10012 (Little Italy area)</td>\n",
       "      <td>\\nQuantitative Scientist\\n</td>\n",
       "      <td>$90,000 - $100,000 a year</td>\n",
       "      <td>\\n\\n\\n        Flatiron Health\\n</td>\n",
       "    </tr>\n",
       "    <tr>\n",
       "      <th>2</th>\n",
       "      <td>New York, NY 10011 (Chelsea area)</td>\n",
       "      <td>\\nAccenture Analytics - Data Science Consultant\\n</td>\n",
       "      <td>$100,000 a year</td>\n",
       "      <td>\\n\\n\\n        Accenture\\n</td>\n",
       "    </tr>\n",
       "  </tbody>\n",
       "</table>\n",
       "</div>"
      ],
      "text/plain": [
       "                                     city  \\\n",
       "0                            New York, NY   \n",
       "1  New York, NY 10012 (Little Italy area)   \n",
       "2       New York, NY 10011 (Chelsea area)   \n",
       "\n",
       "                                                 job  \\\n",
       "0      \\nLead Data Scientist, Digital Intelligence\\n   \n",
       "1                         \\nQuantitative Scientist\\n   \n",
       "2  \\nAccenture Analytics - Data Science Consultant\\n   \n",
       "\n",
       "                      salary                          company  \n",
       "0                        NaN   \\n\\n\\n        JPMorgan Chase\\n  \n",
       "1  $90,000 - $100,000 a year  \\n\\n\\n        Flatiron Health\\n  \n",
       "2            $100,000 a year        \\n\\n\\n        Accenture\\n  "
      ]
     },
     "execution_count": 4,
     "metadata": {},
     "output_type": "execute_result"
    }
   ],
   "source": [
    "# Call each of the above functions to create a pandas dataframe\n",
    "\n",
    "listy = []\n",
    "for i in results:\n",
    "    listy.append(extract_loc(i))\n",
    "df = pd.DataFrame(listy)\n",
    "\n",
    "listy = []\n",
    "for i in results:\n",
    "    listy.append(extract_job(i))\n",
    "df['job'] = pd.DataFrame(listy)\n",
    "\n",
    "listy = []\n",
    "for i in results:\n",
    "    listy.append(extract_sal(i))\n",
    "df['sal'] = pd.DataFrame(listy)\n",
    "\n",
    "listy = []\n",
    "for i in results:\n",
    "    listy.append(extract_comp(i))\n",
    "df['comp'] = pd.DataFrame(listy)\n",
    "\n",
    "df.columns = ['city', 'job', 'salary', 'company']\n",
    "df.head(3)"
   ]
  },
  {
   "cell_type": "code",
   "execution_count": 5,
   "metadata": {
    "collapsed": false
   },
   "outputs": [
    {
     "data": {
      "text/html": [
       "<div>\n",
       "<table border=\"1\" class=\"dataframe\">\n",
       "  <thead>\n",
       "    <tr style=\"text-align: right;\">\n",
       "      <th></th>\n",
       "      <th>city</th>\n",
       "      <th>job</th>\n",
       "      <th>salary</th>\n",
       "      <th>company</th>\n",
       "    </tr>\n",
       "  </thead>\n",
       "  <tbody>\n",
       "    <tr>\n",
       "      <th>0</th>\n",
       "      <td>New York, NY</td>\n",
       "      <td>\\nLead Data Scientist, Digital Intelligence\\n</td>\n",
       "      <td>NaN</td>\n",
       "      <td>\\n\\n\\n        JPMorgan Chase\\n</td>\n",
       "    </tr>\n",
       "    <tr>\n",
       "      <th>4</th>\n",
       "      <td>New York, NY 10154 (Midtown area)</td>\n",
       "      <td>\\nCognitive AI Data Scientist\\n</td>\n",
       "      <td>NaN</td>\n",
       "      <td>\\n\\n\\n        KPMG\\n</td>\n",
       "    </tr>\n",
       "    <tr>\n",
       "      <th>5</th>\n",
       "      <td>New York, NY 10011 (Chelsea area)</td>\n",
       "      <td>\\nMachine Learning Practice Lead, Google Cloud...</td>\n",
       "      <td>NaN</td>\n",
       "      <td>\\n\\n\\n        Google\\n</td>\n",
       "    </tr>\n",
       "  </tbody>\n",
       "</table>\n",
       "</div>"
      ],
      "text/plain": [
       "                                city  \\\n",
       "0                       New York, NY   \n",
       "4  New York, NY 10154 (Midtown area)   \n",
       "5  New York, NY 10011 (Chelsea area)   \n",
       "\n",
       "                                                 job salary  \\\n",
       "0      \\nLead Data Scientist, Digital Intelligence\\n    NaN   \n",
       "4                    \\nCognitive AI Data Scientist\\n    NaN   \n",
       "5  \\nMachine Learning Practice Lead, Google Cloud...    NaN   \n",
       "\n",
       "                          company  \n",
       "0  \\n\\n\\n        JPMorgan Chase\\n  \n",
       "4            \\n\\n\\n        KPMG\\n  \n",
       "5          \\n\\n\\n        Google\\n  "
      ]
     },
     "execution_count": 5,
     "metadata": {},
     "output_type": "execute_result"
    }
   ],
   "source": [
    "# Create separate dataframe of positions with no salary listed\n",
    "\n",
    "no_sal = df[df['salary'].isnull()]\n",
    "no_sal.head(3)"
   ]
  },
  {
   "cell_type": "code",
   "execution_count": 6,
   "metadata": {
    "collapsed": false
   },
   "outputs": [
    {
     "name": "stdout",
     "output_type": "stream",
     "text": [
      "(190, 4)\n"
     ]
    },
    {
     "data": {
      "text/html": [
       "<div>\n",
       "<table border=\"1\" class=\"dataframe\">\n",
       "  <thead>\n",
       "    <tr style=\"text-align: right;\">\n",
       "      <th></th>\n",
       "      <th>city</th>\n",
       "      <th>job</th>\n",
       "      <th>salary</th>\n",
       "      <th>company</th>\n",
       "    </tr>\n",
       "  </thead>\n",
       "  <tbody>\n",
       "    <tr>\n",
       "      <th>1</th>\n",
       "      <td>New York, NY 10012 (Little Italy area)</td>\n",
       "      <td>\\nQuantitative Scientist\\n</td>\n",
       "      <td>$90,000 - $100,000 a year</td>\n",
       "      <td>\\n\\n\\n        Flatiron Health\\n</td>\n",
       "    </tr>\n",
       "    <tr>\n",
       "      <th>2</th>\n",
       "      <td>New York, NY 10011 (Chelsea area)</td>\n",
       "      <td>\\nAccenture Analytics - Data Science Consultant\\n</td>\n",
       "      <td>$100,000 a year</td>\n",
       "      <td>\\n\\n\\n        Accenture\\n</td>\n",
       "    </tr>\n",
       "    <tr>\n",
       "      <th>3</th>\n",
       "      <td>New York, NY</td>\n",
       "      <td>\\nResearch Scientist\\n</td>\n",
       "      <td>$175,000 a year</td>\n",
       "      <td>\\n\\n\\n        Amazon Web Services, Inc.\\n</td>\n",
       "    </tr>\n",
       "    <tr>\n",
       "      <th>6</th>\n",
       "      <td>New York, NY 10010 (Gramercy area)</td>\n",
       "      <td>\\nPart Time Online Course Mentor: Data Analysis\\n</td>\n",
       "      <td>$80,000 - $100,000 a year</td>\n",
       "      <td>\\n\\n\\n        General Assembly\\n</td>\n",
       "    </tr>\n",
       "    <tr>\n",
       "      <th>8</th>\n",
       "      <td>New York, NY</td>\n",
       "      <td>\\nResearch Analyst - Digital Transformation\\n</td>\n",
       "      <td>$140,000 a year</td>\n",
       "      <td>\\n\\n    Lux Research\\n</td>\n",
       "    </tr>\n",
       "  </tbody>\n",
       "</table>\n",
       "</div>"
      ],
      "text/plain": [
       "                                     city  \\\n",
       "1  New York, NY 10012 (Little Italy area)   \n",
       "2       New York, NY 10011 (Chelsea area)   \n",
       "3                            New York, NY   \n",
       "6      New York, NY 10010 (Gramercy area)   \n",
       "8                            New York, NY   \n",
       "\n",
       "                                                 job  \\\n",
       "1                         \\nQuantitative Scientist\\n   \n",
       "2  \\nAccenture Analytics - Data Science Consultant\\n   \n",
       "3                             \\nResearch Scientist\\n   \n",
       "6  \\nPart Time Online Course Mentor: Data Analysis\\n   \n",
       "8      \\nResearch Analyst - Digital Transformation\\n   \n",
       "\n",
       "                      salary                                    company  \n",
       "1  $90,000 - $100,000 a year            \\n\\n\\n        Flatiron Health\\n  \n",
       "2            $100,000 a year                  \\n\\n\\n        Accenture\\n  \n",
       "3            $175,000 a year  \\n\\n\\n        Amazon Web Services, Inc.\\n  \n",
       "6  $80,000 - $100,000 a year           \\n\\n\\n        General Assembly\\n  \n",
       "8            $140,000 a year                     \\n\\n    Lux Research\\n  "
      ]
     },
     "execution_count": 6,
     "metadata": {},
     "output_type": "execute_result"
    }
   ],
   "source": [
    "# Drop positions with no salary and duplicate entries in df\n",
    "\n",
    "df.dropna(how='any', axis=0, inplace=True)\n",
    "df.drop_duplicates(inplace=True)\n",
    "print df.shape\n",
    "df.head()"
   ]
  },
  {
   "cell_type": "code",
   "execution_count": 7,
   "metadata": {
    "collapsed": false
   },
   "outputs": [
    {
     "data": {
      "text/html": [
       "<div>\n",
       "<table border=\"1\" class=\"dataframe\">\n",
       "  <thead>\n",
       "    <tr style=\"text-align: right;\">\n",
       "      <th></th>\n",
       "      <th>city</th>\n",
       "      <th>job</th>\n",
       "      <th>salary</th>\n",
       "      <th>company</th>\n",
       "    </tr>\n",
       "  </thead>\n",
       "  <tbody>\n",
       "    <tr>\n",
       "      <th>1</th>\n",
       "      <td>New York, NY 10012 (Little Italy area)</td>\n",
       "      <td>Quantitative Scientist</td>\n",
       "      <td>$90,000 - $100,000 a year</td>\n",
       "      <td>\\n\\n\\n        Flatiron Health\\n</td>\n",
       "    </tr>\n",
       "    <tr>\n",
       "      <th>2</th>\n",
       "      <td>New York, NY 10011 (Chelsea area)</td>\n",
       "      <td>Accenture Analytics - Data Science Consultant</td>\n",
       "      <td>$100,000 a year</td>\n",
       "      <td>\\n\\n\\n        Accenture\\n</td>\n",
       "    </tr>\n",
       "    <tr>\n",
       "      <th>3</th>\n",
       "      <td>New York, NY</td>\n",
       "      <td>Research Scientist</td>\n",
       "      <td>$175,000 a year</td>\n",
       "      <td>\\n\\n\\n        Amazon Web Services, Inc.\\n</td>\n",
       "    </tr>\n",
       "  </tbody>\n",
       "</table>\n",
       "</div>"
      ],
      "text/plain": [
       "                                     city  \\\n",
       "1  New York, NY 10012 (Little Italy area)   \n",
       "2       New York, NY 10011 (Chelsea area)   \n",
       "3                            New York, NY   \n",
       "\n",
       "                                             job                     salary  \\\n",
       "1                         Quantitative Scientist  $90,000 - $100,000 a year   \n",
       "2  Accenture Analytics - Data Science Consultant            $100,000 a year   \n",
       "3                             Research Scientist            $175,000 a year   \n",
       "\n",
       "                                     company  \n",
       "1            \\n\\n\\n        Flatiron Health\\n  \n",
       "2                  \\n\\n\\n        Accenture\\n  \n",
       "3  \\n\\n\\n        Amazon Web Services, Inc.\\n  "
      ]
     },
     "execution_count": 7,
     "metadata": {},
     "output_type": "execute_result"
    }
   ],
   "source": [
    "# Clean job column\n",
    "\n",
    "listy = []\n",
    "for i in df['job']:\n",
    "    listy.append(str(i.encode('ascii', 'ignore')).split())\n",
    "dicty = {}\n",
    "for idx, i in enumerate(listy):\n",
    "    for j in i:\n",
    "        if '\\\\n' in j:\n",
    "            continue\n",
    "        elif idx not in dicty:\n",
    "            dicty[idx] = str(j.encode('ascii', 'ignore'))\n",
    "        else:\n",
    "            dicty[idx] += ' ' + str(j)\n",
    "listyy = []\n",
    "for i in range(len(dicty)):\n",
    "    listyy.append(dicty[i])\n",
    "df['job'] = listyy\n",
    "df.head(3)"
   ]
  },
  {
   "cell_type": "code",
   "execution_count": 10,
   "metadata": {
    "collapsed": false
   },
   "outputs": [
    {
     "data": {
      "text/html": [
       "<div>\n",
       "<table border=\"1\" class=\"dataframe\">\n",
       "  <thead>\n",
       "    <tr style=\"text-align: right;\">\n",
       "      <th></th>\n",
       "      <th>city</th>\n",
       "      <th>job</th>\n",
       "      <th>salary</th>\n",
       "      <th>company</th>\n",
       "    </tr>\n",
       "  </thead>\n",
       "  <tbody>\n",
       "    <tr>\n",
       "      <th>1</th>\n",
       "      <td>New York, NY 10012 (Little Italy area)</td>\n",
       "      <td>Quantitative Scientist</td>\n",
       "      <td>$90,000 - $100,000 a year</td>\n",
       "      <td>Flatiron Health</td>\n",
       "    </tr>\n",
       "    <tr>\n",
       "      <th>2</th>\n",
       "      <td>New York, NY 10011 (Chelsea area)</td>\n",
       "      <td>Accenture Analytics - Data Science Consultant</td>\n",
       "      <td>$100,000 a year</td>\n",
       "      <td>Accenture</td>\n",
       "    </tr>\n",
       "    <tr>\n",
       "      <th>3</th>\n",
       "      <td>New York, NY</td>\n",
       "      <td>Research Scientist</td>\n",
       "      <td>$175,000 a year</td>\n",
       "      <td>Amazon Web Services, Inc.</td>\n",
       "    </tr>\n",
       "  </tbody>\n",
       "</table>\n",
       "</div>"
      ],
      "text/plain": [
       "                                     city  \\\n",
       "1  New York, NY 10012 (Little Italy area)   \n",
       "2       New York, NY 10011 (Chelsea area)   \n",
       "3                            New York, NY   \n",
       "\n",
       "                                             job                     salary  \\\n",
       "1                         Quantitative Scientist  $90,000 - $100,000 a year   \n",
       "2  Accenture Analytics - Data Science Consultant            $100,000 a year   \n",
       "3                             Research Scientist            $175,000 a year   \n",
       "\n",
       "                     company  \n",
       "1            Flatiron Health  \n",
       "2                  Accenture  \n",
       "3  Amazon Web Services, Inc.  "
      ]
     },
     "execution_count": 10,
     "metadata": {},
     "output_type": "execute_result"
    }
   ],
   "source": [
    "# Clean company column\n",
    "\n",
    "listy = []\n",
    "for i in df['company']:\n",
    "    listy.append(str(i.encode('ascii', 'ignore')).split())\n",
    "dicty = {}\n",
    "for idx, i in enumerate(listy):\n",
    "    for j in i:\n",
    "        if '\\\\n' in j:\n",
    "            continue\n",
    "        elif idx not in dicty:\n",
    "            dicty[idx] = str(j)\n",
    "        else:\n",
    "            dicty[idx] += ' ' + str(j)\n",
    "listyy = []\n",
    "for i in range(len(dicty)):\n",
    "    listyy.append(dicty[i])\n",
    "df['company'] = listyy\n",
    "df.head(3)"
   ]
  },
  {
   "cell_type": "code",
   "execution_count": 11,
   "metadata": {
    "collapsed": false
   },
   "outputs": [
    {
     "data": {
      "text/html": [
       "<div>\n",
       "<table border=\"1\" class=\"dataframe\">\n",
       "  <thead>\n",
       "    <tr style=\"text-align: right;\">\n",
       "      <th></th>\n",
       "      <th>city</th>\n",
       "      <th>job</th>\n",
       "      <th>salary</th>\n",
       "      <th>company</th>\n",
       "    </tr>\n",
       "  </thead>\n",
       "  <tbody>\n",
       "    <tr>\n",
       "      <th>1</th>\n",
       "      <td>New York</td>\n",
       "      <td>Quantitative Scientist</td>\n",
       "      <td>$90,000 - $100,000 a year</td>\n",
       "      <td>Flatiron Health</td>\n",
       "    </tr>\n",
       "    <tr>\n",
       "      <th>2</th>\n",
       "      <td>New York</td>\n",
       "      <td>Accenture Analytics - Data Science Consultant</td>\n",
       "      <td>$100,000 a year</td>\n",
       "      <td>Accenture</td>\n",
       "    </tr>\n",
       "    <tr>\n",
       "      <th>3</th>\n",
       "      <td>New York</td>\n",
       "      <td>Research Scientist</td>\n",
       "      <td>$175,000 a year</td>\n",
       "      <td>Amazon Web Services, Inc.</td>\n",
       "    </tr>\n",
       "  </tbody>\n",
       "</table>\n",
       "</div>"
      ],
      "text/plain": [
       "       city                                            job  \\\n",
       "1  New York                         Quantitative Scientist   \n",
       "2  New York  Accenture Analytics - Data Science Consultant   \n",
       "3  New York                             Research Scientist   \n",
       "\n",
       "                      salary                    company  \n",
       "1  $90,000 - $100,000 a year            Flatiron Health  \n",
       "2            $100,000 a year                  Accenture  \n",
       "3            $175,000 a year  Amazon Web Services, Inc.  "
      ]
     },
     "execution_count": 11,
     "metadata": {},
     "output_type": "execute_result"
    }
   ],
   "source": [
    "# Clean city column\n",
    "\n",
    "listy = []\n",
    "for i in df['city']:\n",
    "    listy.append(str(i).split(',')[0])\n",
    "df['city'] = listy\n",
    "df.head(3)"
   ]
  },
  {
   "cell_type": "code",
   "execution_count": 12,
   "metadata": {
    "collapsed": false
   },
   "outputs": [
    {
     "ename": "ValueError",
     "evalue": "could not convert string to float: a",
     "output_type": "error",
     "traceback": [
      "\u001b[0;31m---------------------------------------------------------------------------\u001b[0m",
      "\u001b[0;31mValueError\u001b[0m                                Traceback (most recent call last)",
      "\u001b[0;32m<ipython-input-12-b12968d5056b>\u001b[0m in \u001b[0;36m<module>\u001b[0;34m()\u001b[0m\n\u001b[1;32m     10\u001b[0m \u001b[0;32mfor\u001b[0m \u001b[0midx\u001b[0m\u001b[0;34m,\u001b[0m \u001b[0mi\u001b[0m \u001b[0;32min\u001b[0m \u001b[0menumerate\u001b[0m\u001b[0;34m(\u001b[0m\u001b[0mlisty\u001b[0m\u001b[0;34m)\u001b[0m\u001b[0;34m:\u001b[0m\u001b[0;34m\u001b[0m\u001b[0m\n\u001b[1;32m     11\u001b[0m     \u001b[0;32mfor\u001b[0m \u001b[0mj\u001b[0m \u001b[0;32min\u001b[0m \u001b[0mi\u001b[0m\u001b[0;34m:\u001b[0m\u001b[0;34m\u001b[0m\u001b[0m\n\u001b[0;32m---> 12\u001b[0;31m         \u001b[0mnum_list\u001b[0m \u001b[0;34m+=\u001b[0m \u001b[0;34m[\u001b[0m\u001b[0;34m(\u001b[0m\u001b[0midx\u001b[0m\u001b[0;34m,\u001b[0m \u001b[0mfloat\u001b[0m\u001b[0;34m(\u001b[0m\u001b[0mj\u001b[0m\u001b[0;34m)\u001b[0m\u001b[0;34m)\u001b[0m\u001b[0;34m]\u001b[0m\u001b[0;34m\u001b[0m\u001b[0m\n\u001b[0m\u001b[1;32m     13\u001b[0m \u001b[0mnum_list\u001b[0m\u001b[0;34m\u001b[0m\u001b[0m\n\u001b[1;32m     14\u001b[0m \u001b[0;34m\u001b[0m\u001b[0m\n",
      "\u001b[0;31mValueError\u001b[0m: could not convert string to float: a"
     ]
    }
   ],
   "source": [
    "# Clean salary column\n",
    "\n",
    "listy = []\n",
    "for i in df['salary']:\n",
    "    listy.append(str(i).replace('$', '').replace(',', '').replace('-', '').replace(' a year', '')\n",
    "                .replace('a week', '').replace('a month', '').replace('an hour', ''))\n",
    "\n",
    "listy = [i.split() for i in listy]\n",
    "num_list = []\n",
    "for idx, i in enumerate(listy):\n",
    "    for j in i:\n",
    "        num_list += [(idx, float(j))]\n",
    "num_list\n",
    "        \n",
    "dicty = {}\n",
    "for j, k in num_list:\n",
    "    if j not in dicty:\n",
    "        dicty[j] = k\n",
    "    else:\n",
    "        dicty[j] += k\n",
    "        dicty[j] /= 2\n",
    "dicty\n",
    "for i in dicty:\n",
    "    if dicty[i] < 100:\n",
    "        dicty[i] *= 2080\n",
    "    elif dicty[i] < 3000:\n",
    "        dicty[i] *= 52\n",
    "    elif dicty[i] < 10000:\n",
    "        dicty[i] *= 12\n",
    "sals = []\n",
    "for i in range(len(dicty)):\n",
    "    sals.append(dicty[i])\n",
    "    \n",
    "df['salary'] = sals\n",
    "df.head(3)"
   ]
  },
  {
   "cell_type": "code",
   "execution_count": 248,
   "metadata": {
    "collapsed": true
   },
   "outputs": [],
   "source": [
    "# Create highness column, which splits \n",
    "\n",
    "frst_third = df['salary'].quantile(.33)\n",
    "scnd_third = df['salary'].quantile(.66)\n",
    "highness = []\n",
    "for i in df['salary']:\n",
    "    if i < frst_third:\n",
    "        highness.append('low')\n",
    "    elif i < scnd_third:\n",
    "        highness.append('average')\n",
    "    else:\n",
    "        highness.append('high')\n",
    "df['highness'] = highness\n",
    "df.head()\n",
    "\n",
    "listy = []\n",
    "for i in df['salary']:\n",
    "    if i < df['salary'].quantile(.5):\n",
    "        listy.append(1)\n",
    "    else:\n",
    "        listy.append(0)\n",
    "df['is_high'] = listy"
   ]
  },
  {
   "cell_type": "code",
   "execution_count": 249,
   "metadata": {
    "collapsed": false
   },
   "outputs": [
    {
     "data": {
      "text/html": [
       "<div>\n",
       "<table border=\"1\" class=\"dataframe\">\n",
       "  <thead>\n",
       "    <tr style=\"text-align: right;\">\n",
       "      <th></th>\n",
       "      <th>city</th>\n",
       "      <th>job</th>\n",
       "      <th>salary</th>\n",
       "      <th>company</th>\n",
       "      <th>highness</th>\n",
       "      <th>is_high</th>\n",
       "    </tr>\n",
       "  </thead>\n",
       "  <tbody>\n",
       "    <tr>\n",
       "      <th>0</th>\n",
       "      <td>New York</td>\n",
       "      <td>Data Scientist, Digital Strategy</td>\n",
       "      <td>135000.0</td>\n",
       "      <td>Morgan Stanley</td>\n",
       "      <td>high</td>\n",
       "      <td>0</td>\n",
       "    </tr>\n",
       "    <tr>\n",
       "      <th>1</th>\n",
       "      <td>New York</td>\n",
       "      <td>Applied Scientist</td>\n",
       "      <td>76941.5</td>\n",
       "      <td>Amazon Web Services, Inc.</td>\n",
       "      <td>average</td>\n",
       "      <td>1</td>\n",
       "    </tr>\n",
       "    <tr>\n",
       "      <th>2</th>\n",
       "      <td>New York</td>\n",
       "      <td>Quantitative Scientist</td>\n",
       "      <td>95000.0</td>\n",
       "      <td>Flatiron Health</td>\n",
       "      <td>average</td>\n",
       "      <td>0</td>\n",
       "    </tr>\n",
       "  </tbody>\n",
       "</table>\n",
       "</div>"
      ],
      "text/plain": [
       "       city                               job    salary  \\\n",
       "0  New York  Data Scientist, Digital Strategy  135000.0   \n",
       "1  New York                 Applied Scientist   76941.5   \n",
       "2  New York            Quantitative Scientist   95000.0   \n",
       "\n",
       "                     company highness  is_high  \n",
       "0             Morgan Stanley     high        0  \n",
       "1  Amazon Web Services, Inc.  average        1  \n",
       "2            Flatiron Health  average        0  "
      ]
     },
     "execution_count": 249,
     "metadata": {},
     "output_type": "execute_result"
    }
   ],
   "source": [
    "df.head(3)"
   ]
  },
  {
   "cell_type": "code",
   "execution_count": 250,
   "metadata": {
    "collapsed": false
   },
   "outputs": [
    {
     "name": "stdout",
     "output_type": "stream",
     "text": [
      "The baseline accuracy is 0.35632183908\n"
     ]
    }
   ],
   "source": [
    "# Check the baseline of model\n",
    "\n",
    "val_cnts = df['highness'].value_counts()\n",
    "print 'The baseline accuracy is', float(max(val_cnts)) / float(sum(val_cnts)) "
   ]
  },
  {
   "cell_type": "code",
   "execution_count": 389,
   "metadata": {
    "collapsed": false
   },
   "outputs": [],
   "source": [
    "# Split data into train and test groups\n",
    "\n",
    "X = df.drop(['highness', 'is_high', 'salary'], axis=1)\n",
    "y = df['highness']\n",
    "\n",
    "X_train, X_test, y_train, y_test = train_test_split(X, y, stratify=y, test_size=0.2, random_state=42)"
   ]
  },
  {
   "cell_type": "code",
   "execution_count": 390,
   "metadata": {
    "collapsed": false
   },
   "outputs": [
    {
     "data": {
      "text/plain": [
       "CountVectorizer(analyzer=u'word', binary=False, decode_error=u'strict',\n",
       "        dtype=<type 'numpy.int64'>, encoding=u'utf-8', input=u'content',\n",
       "        lowercase=True, max_df=0.2, max_features=5, min_df=2,\n",
       "        ngram_range=(1, 3), preprocessor=None, stop_words='english',\n",
       "        strip_accents=None, token_pattern=u'(?u)\\\\b\\\\w\\\\w+\\\\b',\n",
       "        tokenizer=None, vocabulary=None)"
      ]
     },
     "execution_count": 390,
     "metadata": {},
     "output_type": "execute_result"
    }
   ],
   "source": [
    "# Initialize TF-IDF vectorizer\n",
    "\n",
    "vec = CountVectorizer(stop_words='english',ngram_range=(1, 3), max_df=0.2, min_df=2, max_features=5)\n",
    "vec.fit(X['job'])"
   ]
  },
  {
   "cell_type": "code",
   "execution_count": 391,
   "metadata": {
    "collapsed": false
   },
   "outputs": [],
   "source": [
    "# Create function to prepare X_train and X_test for classification models\n",
    "\n",
    "def prep(X):\n",
    "    # Convert city column to numerical values\n",
    "    le = LabelEncoder()\n",
    "    X['city'] = le.fit_transform(X['city'])\n",
    "    \n",
    "    # Vectorize job titles column to create new features\n",
    "    X_vec = pd.DataFrame(vec.transform(X['job']).todense())\n",
    "    \n",
    "    # Concatenate new features to X_train\n",
    "    X.set_index([range(len(X['job']))], inplace=True)\n",
    "    X_vec.columns = vec.get_feature_names()\n",
    "    X = pd.concat([X, X_vec], axis=1)\n",
    "    \n",
    "    # Drop job and company columns from X\n",
    "    X.drop(['job', 'company'], axis=1, inplace=True)\n",
    "    \n",
    "    return X"
   ]
  },
  {
   "cell_type": "code",
   "execution_count": 392,
   "metadata": {
    "collapsed": false
   },
   "outputs": [
    {
     "name": "stderr",
     "output_type": "stream",
     "text": [
      "/anaconda/lib/python2.7/site-packages/ipykernel/__main__.py:6: SettingWithCopyWarning: \n",
      "A value is trying to be set on a copy of a slice from a DataFrame.\n",
      "Try using .loc[row_indexer,col_indexer] = value instead\n",
      "\n",
      "See the caveats in the documentation: http://pandas.pydata.org/pandas-docs/stable/indexing.html#indexing-view-versus-copy\n"
     ]
    }
   ],
   "source": [
    "X_train = prep(X_train)\n",
    "X_test  = prep(X_test)"
   ]
  },
  {
   "cell_type": "code",
   "execution_count": 393,
   "metadata": {
    "collapsed": false
   },
   "outputs": [],
   "source": [
    "skb = SelectKBest(k=5)\n",
    "skb.fit(X_train, y_train)\n",
    "mask = skb.get_support"
   ]
  },
  {
   "cell_type": "code",
   "execution_count": 394,
   "metadata": {
    "collapsed": false
   },
   "outputs": [
    {
     "name": "stdout",
     "output_type": "stream",
     "text": [
      "(69, 5)\n"
     ]
    }
   ],
   "source": [
    "thing = skb.transform(X_train)\n",
    "print thing.shape"
   ]
  },
  {
   "cell_type": "code",
   "execution_count": 395,
   "metadata": {
    "collapsed": false
   },
   "outputs": [
    {
     "data": {
      "text/plain": [
       "LogisticRegression(C=1.0, class_weight=None, dual=False, fit_intercept=True,\n",
       "          intercept_scaling=1, max_iter=100, multi_class='ovr', n_jobs=1,\n",
       "          penalty='l2', random_state=None, solver='liblinear', tol=0.0001,\n",
       "          verbose=0, warm_start=False)"
      ]
     },
     "execution_count": 395,
     "metadata": {},
     "output_type": "execute_result"
    }
   ],
   "source": [
    "lr = LogisticRegression()\n",
    "lr.fit(X_train, y_train)"
   ]
  },
  {
   "cell_type": "code",
   "execution_count": 396,
   "metadata": {
    "collapsed": false
   },
   "outputs": [
    {
     "data": {
      "text/plain": [
       "{'C': 0.0001, 'penalty': 'l2'}"
      ]
     },
     "execution_count": 396,
     "metadata": {},
     "output_type": "execute_result"
    }
   ],
   "source": [
    "gs = GridSearchCV(lr, {'C':[0.0001, 0.001, 0.01, 0.1, 1.0, 10, 100, 1000], 'penalty':['l1','l2']}, cv=3)\n",
    "gs.fit(X_train, y_train)\n",
    "gs.best_params_"
   ]
  },
  {
   "cell_type": "code",
   "execution_count": 397,
   "metadata": {
    "collapsed": false
   },
   "outputs": [
    {
     "data": {
      "text/plain": [
       "0.44444444444444442"
      ]
     },
     "execution_count": 397,
     "metadata": {},
     "output_type": "execute_result"
    }
   ],
   "source": [
    "lr = LogisticRegression(C=0.0001, penalty='l2')\n",
    "lr.fit(X_train, y_train)\n",
    "lr.score(X_test, y_test)"
   ]
  },
  {
   "cell_type": "code",
   "execution_count": 398,
   "metadata": {
    "collapsed": false
   },
   "outputs": [
    {
     "data": {
      "text/plain": [
       "RandomForestClassifier(bootstrap=True, class_weight=None, criterion='gini',\n",
       "            max_depth=None, max_features='auto', max_leaf_nodes=None,\n",
       "            min_impurity_split=1e-07, min_samples_leaf=1,\n",
       "            min_samples_split=2, min_weight_fraction_leaf=0.0,\n",
       "            n_estimators=10, n_jobs=1, oob_score=False, random_state=None,\n",
       "            verbose=0, warm_start=False)"
      ]
     },
     "execution_count": 398,
     "metadata": {},
     "output_type": "execute_result"
    }
   ],
   "source": [
    "# Trying out random forest classifier\n",
    "\n",
    "rf = RandomForestClassifier()\n",
    "rf.fit(X_train, y_train)"
   ]
  },
  {
   "cell_type": "code",
   "execution_count": 400,
   "metadata": {
    "collapsed": false
   },
   "outputs": [
    {
     "data": {
      "text/plain": [
       "{'max_depth': 1, 'max_features': None, 'n_estimators': 10}"
      ]
     },
     "execution_count": 400,
     "metadata": {},
     "output_type": "execute_result"
    }
   ],
   "source": [
    "gs = GridSearchCV(rf, {'max_features':[1, 2, 3, 4, 5, None], 'max_depth':[1,2,3,4,5,None],\n",
    "                      'n_estimators':[5, 10, 15, 20]}, cv=3)\n",
    "gs.fit(X_train, y_train)\n",
    "gs.best_params_"
   ]
  },
  {
   "cell_type": "code",
   "execution_count": 402,
   "metadata": {
    "collapsed": false
   },
   "outputs": [
    {
     "data": {
      "text/plain": [
       "0.44444444444444442"
      ]
     },
     "execution_count": 402,
     "metadata": {},
     "output_type": "execute_result"
    }
   ],
   "source": [
    "rf = RandomForestClassifier(max_depth=3, max_features=1, n_estimators=5, random_state=42)\n",
    "rf.fit(X_train, y_train)\n",
    "rf.score(X_test, y_test)"
   ]
  },
  {
   "cell_type": "code",
   "execution_count": null,
   "metadata": {
    "collapsed": true
   },
   "outputs": [],
   "source": []
  }
 ],
 "metadata": {
  "anaconda-cloud": {},
  "kernelspec": {
   "display_name": "Python [Root]",
   "language": "python",
   "name": "Python [Root]"
  },
  "language_info": {
   "codemirror_mode": {
    "name": "ipython",
    "version": 2
   },
   "file_extension": ".py",
   "mimetype": "text/x-python",
   "name": "python",
   "nbconvert_exporter": "python",
   "pygments_lexer": "ipython2",
   "version": "2.7.12"
  }
 },
 "nbformat": 4,
 "nbformat_minor": 0
}
